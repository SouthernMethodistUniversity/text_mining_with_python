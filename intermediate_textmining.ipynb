{
 "cells": [
  {
   "cell_type": "markdown",
   "metadata": {},
   "source": [
    "# Intermediate TextMining with Python"
   ]
  },
  {
   "cell_type": "markdown",
   "metadata": {},
   "source": [
    " By: Dr. Eric Godat and Dr. Rob Kalescky\n",
    " \n",
    " Acknowledgements: Garrett Moore, Jaymie Ruddock\n",
    "\n",
    " Adapted from: [Ultimate Guide to deal with Text Data (Using Python)](https://www.analyticsvidhya.com/blog/2018/02/the-different-methods-deal-text-data-predictive-python/)\n",
    " \n",
    " Natural Language Toolkit: [Documentation](http://www.nltk.org/)\n",
    " \n",
    " Reference Text: [Natural Language Processing with Python](http://www.nltk.org/book/)\n",
    " \n",
    " \n",
    " *This notebook follows the **Introduction to Working with Text Data** lesson. Please consider looking over that lesson if you have not already*"
   ]
  },
  {
   "cell_type": "markdown",
   "metadata": {},
   "source": [
    "## Setup"
   ]
  },
  {
   "cell_type": "markdown",
   "metadata": {},
   "source": [
    "These are the basic libraries we will use in for data manipulation (pandas) and math functions (numpy). We will add more libraries as we need them.\n",
    "\n",
    "As a best practice, it is a good idea to load all your libraries in a single cell at the top of a notebook, however for the purposes of this tutorial we will load some now and more as we go."
   ]
  },
  {
   "cell_type": "code",
   "execution_count": 1,
   "metadata": {},
   "outputs": [],
   "source": [
    "%config InlineBackend.figure_format ='retina'"
   ]
  },
  {
   "cell_type": "code",
   "execution_count": 2,
   "metadata": {},
   "outputs": [],
   "source": [
    "import pandas as pd\n",
    "import numpy as np\n",
    "import glob"
   ]
  },
  {
   "cell_type": "markdown",
   "metadata": {},
   "source": [
    "Load a data file into a pandas DataFrame.\n",
    "\n",
    "This tutorial was designed around using sets of data you have yourselves in a form like a CSV, TSV, or TXT file.  Feel free to use any set of data, but for now we will use a dataset created from scraping this [Multilingual Folktale Database](http://www.mftd.org/).\n",
    "\n",
    "This file is a CSV filetype, common for text data, but your data may also be stored as TSV's, TXT's, or other file types.  This will slightly change how you read from Pandas, but the concept is largely the same for the different filetypes.  Just keep this in mind when you see references to CSV.\n",
    "\n",
    "To proceed, you will need to have this file downloaded and in the same folder as this notebook. Alternatively you can put the full path to the file.  Typically, your program will look for the file with the name you specified in the folder that contains your program unless you give the program a path to follow."
   ]
  },
  {
   "cell_type": "code",
   "execution_count": 3,
   "metadata": {},
   "outputs": [
    {
     "data": {
      "text/plain": [
       "['folktales.csv']"
      ]
     },
     "execution_count": 3,
     "metadata": {},
     "output_type": "execute_result"
    }
   ],
   "source": [
    "glob.glob(\"*.csv\") #Allows us to check the files in the current directory, if folktales.csv is not here, then we need to give the path"
   ]
  },
  {
   "cell_type": "code",
   "execution_count": 4,
   "metadata": {},
   "outputs": [
    {
     "data": {
      "text/html": [
       "<div>\n",
       "<style scoped>\n",
       "    .dataframe tbody tr th:only-of-type {\n",
       "        vertical-align: middle;\n",
       "    }\n",
       "\n",
       "    .dataframe tbody tr th {\n",
       "        vertical-align: top;\n",
       "    }\n",
       "\n",
       "    .dataframe thead th {\n",
       "        text-align: right;\n",
       "    }\n",
       "</style>\n",
       "<table border=\"1\" class=\"dataframe\">\n",
       "  <thead>\n",
       "    <tr style=\"text-align: right;\">\n",
       "      <th></th>\n",
       "      <th>Index</th>\n",
       "      <th>ATU Code</th>\n",
       "      <th>Author</th>\n",
       "      <th>Country of Origin</th>\n",
       "      <th>Original Title</th>\n",
       "      <th>Source</th>\n",
       "      <th>Story</th>\n",
       "      <th>Story Type</th>\n",
       "      <th>Title</th>\n",
       "      <th>Translated</th>\n",
       "      <th>Year Translated</th>\n",
       "      <th>Year Written</th>\n",
       "    </tr>\n",
       "  </thead>\n",
       "  <tbody>\n",
       "    <tr>\n",
       "      <th>0</th>\n",
       "      <td>17</td>\n",
       "      <td>15.0</td>\n",
       "      <td>Jacob &amp; Wilhelm Grimm</td>\n",
       "      <td>Germany</td>\n",
       "      <td>Katze und Maus in Gesellschaft</td>\n",
       "      <td>NaN</td>\n",
       "      <td>A cat had made the acquaintance of a mouse, an...</td>\n",
       "      <td>Stealing the Partner's Butter (ATU 15)\\n\\t\\t</td>\n",
       "      <td>Cat and mouse in partnership</td>\n",
       "      <td>Margaret Hunt</td>\n",
       "      <td>1884.0</td>\n",
       "      <td>1812</td>\n",
       "    </tr>\n",
       "    <tr>\n",
       "      <th>1</th>\n",
       "      <td>44</td>\n",
       "      <td>123.0</td>\n",
       "      <td>Jacob &amp; Wilhelm Grimm</td>\n",
       "      <td>Germany</td>\n",
       "      <td>Der Wolf und die sieben jungen Geisslein</td>\n",
       "      <td>NaN</td>\n",
       "      <td>There was once an old goat who had seven littl...</td>\n",
       "      <td>The Wolf and the Seven Young Kids (ATU 123)\\n...</td>\n",
       "      <td>The Wolf and the Seven Young Kids</td>\n",
       "      <td>Margaret Hunt</td>\n",
       "      <td>1884.0</td>\n",
       "      <td>1812</td>\n",
       "    </tr>\n",
       "    <tr>\n",
       "      <th>2</th>\n",
       "      <td>54</td>\n",
       "      <td>516.0</td>\n",
       "      <td>Jacob &amp; Wilhelm Grimm</td>\n",
       "      <td>Germany</td>\n",
       "      <td>Der treue Johannes</td>\n",
       "      <td>The Blue Fairy Book (nr. 30)</td>\n",
       "      <td>ONCE upon a time there was an old king who was...</td>\n",
       "      <td>The Petrified Friend (ATU 516)\\n\\t\\t</td>\n",
       "      <td>Trusty John</td>\n",
       "      <td>Andrew Lang</td>\n",
       "      <td>1889.0</td>\n",
       "      <td>1812</td>\n",
       "    </tr>\n",
       "    <tr>\n",
       "      <th>3</th>\n",
       "      <td>64</td>\n",
       "      <td>NaN</td>\n",
       "      <td>Jacob &amp; Wilhelm Grimm</td>\n",
       "      <td>Germany</td>\n",
       "      <td>Der gute Handel</td>\n",
       "      <td>NaN</td>\n",
       "      <td>There was once a peasant who had driven his co...</td>\n",
       "      <td>NaN</td>\n",
       "      <td>The good bargain</td>\n",
       "      <td>Margaret Hunt</td>\n",
       "      <td>1884.0</td>\n",
       "      <td>1812</td>\n",
       "    </tr>\n",
       "    <tr>\n",
       "      <th>4</th>\n",
       "      <td>74</td>\n",
       "      <td>151.0</td>\n",
       "      <td>Jacob &amp; Wilhelm Grimm</td>\n",
       "      <td>Germany</td>\n",
       "      <td>Der wunderliche Spielmann</td>\n",
       "      <td>NaN</td>\n",
       "      <td>There was once a wonderful musician, who went ...</td>\n",
       "      <td>Music lessons for wild animals (ATU 151)\\n\\t\\t</td>\n",
       "      <td>The Wonderful Musician</td>\n",
       "      <td>Translated into English</td>\n",
       "      <td>NaN</td>\n",
       "      <td>1812</td>\n",
       "    </tr>\n",
       "  </tbody>\n",
       "</table>\n",
       "</div>"
      ],
      "text/plain": [
       "   Index  ATU Code                 Author Country of Origin  \\\n",
       "0     17      15.0  Jacob & Wilhelm Grimm           Germany   \n",
       "1     44     123.0  Jacob & Wilhelm Grimm           Germany   \n",
       "2     54     516.0  Jacob & Wilhelm Grimm           Germany   \n",
       "3     64       NaN  Jacob & Wilhelm Grimm           Germany   \n",
       "4     74     151.0  Jacob & Wilhelm Grimm           Germany   \n",
       "\n",
       "                             Original Title                        Source  \\\n",
       "0            Katze und Maus in Gesellschaft                           NaN   \n",
       "1  Der Wolf und die sieben jungen Geisslein                           NaN   \n",
       "2                        Der treue Johannes  The Blue Fairy Book (nr. 30)   \n",
       "3                           Der gute Handel                           NaN   \n",
       "4                 Der wunderliche Spielmann                           NaN   \n",
       "\n",
       "                                               Story  \\\n",
       "0  A cat had made the acquaintance of a mouse, an...   \n",
       "1  There was once an old goat who had seven littl...   \n",
       "2  ONCE upon a time there was an old king who was...   \n",
       "3  There was once a peasant who had driven his co...   \n",
       "4  There was once a wonderful musician, who went ...   \n",
       "\n",
       "                                          Story Type  \\\n",
       "0       Stealing the Partner's Butter (ATU 15)\\n\\t\\t   \n",
       "1   The Wolf and the Seven Young Kids (ATU 123)\\n...   \n",
       "2               The Petrified Friend (ATU 516)\\n\\t\\t   \n",
       "3                                                NaN   \n",
       "4     Music lessons for wild animals (ATU 151)\\n\\t\\t   \n",
       "\n",
       "                               Title               Translated  \\\n",
       "0       Cat and mouse in partnership            Margaret Hunt   \n",
       "1  The Wolf and the Seven Young Kids            Margaret Hunt   \n",
       "2                        Trusty John              Andrew Lang   \n",
       "3                   The good bargain            Margaret Hunt   \n",
       "4             The Wonderful Musician  Translated into English   \n",
       "\n",
       "   Year Translated Year Written  \n",
       "0           1884.0         1812  \n",
       "1           1884.0         1812  \n",
       "2           1889.0         1812  \n",
       "3           1884.0         1812  \n",
       "4              NaN         1812  "
      ]
     },
     "execution_count": 4,
     "metadata": {},
     "output_type": "execute_result"
    }
   ],
   "source": [
    "filename = 'folktales.csv' #If you need to put the path to the file, do so here.\n",
    "data = pd.read_csv(filename)#if your filetype is not CSV, you may need to add \" , sep = 'separating_character_here' \" after the filename.  This may require extra manipulation, so be careful.\n",
    "#an alternative, depending on your filetype and situation, may be read_table as opposed to read_csv\n",
    "data.rename(columns={'Unnamed: 0':'Index'},inplace=True) # Rename our index column\n",
    "data.head() # We will use the .head() attribute to limit the amount of the DataFrame is displayed on screen. It is not necessary for computation."
   ]
  },
  {
   "cell_type": "markdown",
   "metadata": {},
   "source": [
    "Here we can see all the information available to us from the file in the form of a Pandas DataFrame. For the remainder of this tutorial, we will focus primarily on the full text of each data chunk, which we will name the *Story* column.  With your data set this is likely to be something very different, so feel free to call is something else."
   ]
  },
  {
   "cell_type": "markdown",
   "metadata": {},
   "source": [
    "## EDGAR Database"
   ]
  },
  {
   "cell_type": "markdown",
   "metadata": {},
   "source": [
    "Here is the [homepage](https://www.sec.gov/edgar.shtml) for the Securities and Exchange Commission's EDGAR database. If you are having trouble finding a specific company, try their [full text search](https://www.sec.gov/edgar/search/#).\n",
    "\n",
    "Usage documentation for the Python package can be found [here](https://pypi.org/project/edgar/)."
   ]
  },
  {
   "cell_type": "markdown",
   "metadata": {},
   "source": [
    "Pull the last 5 10-K reports for the Oracle Corporation"
   ]
  },
  {
   "cell_type": "code",
   "execution_count": 5,
   "metadata": {},
   "outputs": [],
   "source": [
    "from edgar import Company, TXTML\n",
    "company = Company(\"Oracle Corp\", \"0001341439\")\n",
    "tree = company.get_all_filings(filing_type = \"10-K\")\n",
    "docs = Company.get_documents(tree, no_of_documents=5)"
   ]
  },
  {
   "cell_type": "markdown",
   "metadata": {},
   "source": [
    "Parse the most recent 10-K filing for IBM"
   ]
  },
  {
   "cell_type": "code",
   "execution_count": 6,
   "metadata": {},
   "outputs": [],
   "source": [
    "company = Company(\"INTERNATIONAL BUSINESS MACHINES CORP\", \"0000051143\")\n",
    "doc = company.get_10K()\n",
    "text = TXTML.parse_full_10K(doc)"
   ]
  },
  {
   "cell_type": "markdown",
   "metadata": {},
   "source": [
    "Search EDGAR for a company Cisco System"
   ]
  },
  {
   "cell_type": "code",
   "execution_count": 7,
   "metadata": {},
   "outputs": [
    {
     "data": {
      "text/plain": [
       "['CISCO SYSTEMS (SWITZERLAND) INVESTMENTS LTD',\n",
       " 'CISCO SYSTEMS CAPITAL CORP',\n",
       " 'CISCO SYSTEMS INC',\n",
       " 'CISCO SYSTEMS INTERNATIONAL B.V.',\n",
       " 'CISCO SYSTEMS, INC.',\n",
       " 'L3TV SAN FRANCISCO CABLE SYSTEM, LLC',\n",
       " 'SPANISH BROADCASTING SYSTEM SAN FRANCISCO INC']"
      ]
     },
     "execution_count": 7,
     "metadata": {},
     "output_type": "execute_result"
    }
   ],
   "source": [
    "from edgar import Edgar\n",
    "edgar = Edgar()\n",
    "possible_companies = edgar.find_company_name(\"Cisco System\")\n",
    "possible_companies"
   ]
  },
  {
   "cell_type": "markdown",
   "metadata": {},
   "source": [
    "### Simple Example"
   ]
  },
  {
   "cell_type": "code",
   "execution_count": 8,
   "metadata": {},
   "outputs": [],
   "source": [
    "companies = [['AMAZON COM INC','0001018724'],\n",
    "            ['Alphabet Inc.','0001652044'],\n",
    "            ['MICROSOFT CORP','0000789019']\n",
    "            ]"
   ]
  },
  {
   "cell_type": "code",
   "execution_count": 9,
   "metadata": {},
   "outputs": [
    {
     "data": {
      "text/html": [
       "<div>\n",
       "<style scoped>\n",
       "    .dataframe tbody tr th:only-of-type {\n",
       "        vertical-align: middle;\n",
       "    }\n",
       "\n",
       "    .dataframe tbody tr th {\n",
       "        vertical-align: top;\n",
       "    }\n",
       "\n",
       "    .dataframe thead th {\n",
       "        text-align: right;\n",
       "    }\n",
       "</style>\n",
       "<table border=\"1\" class=\"dataframe\">\n",
       "  <thead>\n",
       "    <tr style=\"text-align: right;\">\n",
       "      <th></th>\n",
       "      <th>Company</th>\n",
       "      <th>CIK</th>\n",
       "      <th>MostRecent_10K</th>\n",
       "    </tr>\n",
       "  </thead>\n",
       "  <tbody>\n",
       "    <tr>\n",
       "      <th>0</th>\n",
       "      <td>AMAZON COM INC</td>\n",
       "      <td>0001018724</td>\n",
       "      <td>\\n\\n\\n\\n\\namzn-20201231false2020FY0001018724P3...</td>\n",
       "    </tr>\n",
       "    <tr>\n",
       "      <th>1</th>\n",
       "      <td>Alphabet Inc.</td>\n",
       "      <td>0001652044</td>\n",
       "      <td>\\n\\n\\n\\n\\ngoog-20201231FALSE2020FY0001652044P7...</td>\n",
       "    </tr>\n",
       "    <tr>\n",
       "      <th>2</th>\n",
       "      <td>MICROSOFT CORP</td>\n",
       "      <td>0000789019</td>\n",
       "      <td>\\n\\n\\n\\n\\n\\n\\n\\n\\n\\n\\nmsft-10k_20200630.htm\\n\\...</td>\n",
       "    </tr>\n",
       "  </tbody>\n",
       "</table>\n",
       "</div>"
      ],
      "text/plain": [
       "          Company         CIK  \\\n",
       "0  AMAZON COM INC  0001018724   \n",
       "1   Alphabet Inc.  0001652044   \n",
       "2  MICROSOFT CORP  0000789019   \n",
       "\n",
       "                                      MostRecent_10K  \n",
       "0  \\n\\n\\n\\n\\namzn-20201231false2020FY0001018724P3...  \n",
       "1  \\n\\n\\n\\n\\ngoog-20201231FALSE2020FY0001652044P7...  \n",
       "2  \\n\\n\\n\\n\\n\\n\\n\\n\\n\\n\\nmsft-10k_20200630.htm\\n\\...  "
      ]
     },
     "execution_count": 9,
     "metadata": {},
     "output_type": "execute_result"
    }
   ],
   "source": [
    "edgarDF = pd.DataFrame(companies, columns=['Company','CIK'])\n",
    "edgarDF['MostRecent_10K']=edgarDF.apply(lambda row: TXTML.parse_full_10K(Company(row['Company'],row['CIK']).get_10K()) , axis=1)\n",
    "edgarDF"
   ]
  },
  {
   "cell_type": "markdown",
   "metadata": {},
   "source": [
    "#### Last 5 10Ks with Filing Dates"
   ]
  },
  {
   "cell_type": "code",
   "execution_count": 10,
   "metadata": {},
   "outputs": [],
   "source": [
    "def get_edgar(ll, n):\n",
    "    filinglist = []\n",
    "    for el in ll:\n",
    "        company = Company(el[0], el[1])\n",
    "        tree = company.get_all_filings(filing_type = \"10-K\")\n",
    "        docs = Company.get_documents(tree, no_of_documents=n, as_documents=True)\n",
    "        texts = Company.get_documents(tree, no_of_documents=n, as_documents=False)\n",
    "        if n<2:\n",
    "            docs=[docs]\n",
    "            texts=[texts]\n",
    "        for i in range(n):\n",
    "            date = docs[i].content['Filing Date']\n",
    "            text = TXTML.parse_full_10K(texts[i])\n",
    "            filinglist.append([el[0],el[1],date,text])\n",
    "    df = pd.DataFrame(filinglist, columns=['Title','CIK','10K_Filing','Story'])\n",
    "    return df"
   ]
  },
  {
   "cell_type": "code",
   "execution_count": 86,
   "metadata": {},
   "outputs": [],
   "source": [
    "data = get_edgar(companies,5)\n",
    "\n",
    "data = data.reset_index()\n",
    "data.rename(columns={'index':'Index'},inplace=True)"
   ]
  },
  {
   "cell_type": "code",
   "execution_count": 87,
   "metadata": {},
   "outputs": [
    {
     "data": {
      "text/html": [
       "<div>\n",
       "<style scoped>\n",
       "    .dataframe tbody tr th:only-of-type {\n",
       "        vertical-align: middle;\n",
       "    }\n",
       "\n",
       "    .dataframe tbody tr th {\n",
       "        vertical-align: top;\n",
       "    }\n",
       "\n",
       "    .dataframe thead th {\n",
       "        text-align: right;\n",
       "    }\n",
       "</style>\n",
       "<table border=\"1\" class=\"dataframe\">\n",
       "  <thead>\n",
       "    <tr style=\"text-align: right;\">\n",
       "      <th></th>\n",
       "      <th>Index</th>\n",
       "      <th>Title</th>\n",
       "      <th>CIK</th>\n",
       "      <th>10K_Filing</th>\n",
       "      <th>Story</th>\n",
       "    </tr>\n",
       "  </thead>\n",
       "  <tbody>\n",
       "    <tr>\n",
       "      <th>0</th>\n",
       "      <td>0</td>\n",
       "      <td>AMAZON COM INC</td>\n",
       "      <td>0001018724</td>\n",
       "      <td>2021-02-03</td>\n",
       "      <td>\\n\\n\\n\\n\\namzn-20201231false2020FY0001018724P3...</td>\n",
       "    </tr>\n",
       "    <tr>\n",
       "      <th>1</th>\n",
       "      <td>1</td>\n",
       "      <td>AMAZON COM INC</td>\n",
       "      <td>0001018724</td>\n",
       "      <td>2020-01-31</td>\n",
       "      <td>\\n\\n\\n\\n\\n\\n\\n\\n\\t\\n\\t\\t\\n\\t\\tDocument\\n\\t\\n\\t...</td>\n",
       "    </tr>\n",
       "    <tr>\n",
       "      <th>2</th>\n",
       "      <td>2</td>\n",
       "      <td>AMAZON COM INC</td>\n",
       "      <td>0001018724</td>\n",
       "      <td>2019-02-01</td>\n",
       "      <td>\\n\\n\\n\\t\\n\\t\\t\\n\\t\\t\\n\\t\\tDocument\\n\\t\\n\\t\\nTa...</td>\n",
       "    </tr>\n",
       "    <tr>\n",
       "      <th>3</th>\n",
       "      <td>3</td>\n",
       "      <td>AMAZON COM INC</td>\n",
       "      <td>0001018724</td>\n",
       "      <td>2018-02-02</td>\n",
       "      <td>\\n\\n\\n\\t\\n\\t\\t\\n\\t\\t\\n\\t\\tDocument\\n\\t\\n\\t\\n U...</td>\n",
       "    </tr>\n",
       "    <tr>\n",
       "      <th>4</th>\n",
       "      <td>4</td>\n",
       "      <td>AMAZON COM INC</td>\n",
       "      <td>0001018724</td>\n",
       "      <td>2017-02-10</td>\n",
       "      <td>\\n\\n\\n\\t\\n\\t\\t\\n\\t\\t\\n\\t\\tDocument\\n\\t\\n\\t\\n U...</td>\n",
       "    </tr>\n",
       "    <tr>\n",
       "      <th>5</th>\n",
       "      <td>5</td>\n",
       "      <td>Alphabet Inc.</td>\n",
       "      <td>0001652044</td>\n",
       "      <td>2021-02-03</td>\n",
       "      <td>\\n\\n\\n\\n\\ngoog-20201231FALSE2020FY0001652044P7...</td>\n",
       "    </tr>\n",
       "    <tr>\n",
       "      <th>6</th>\n",
       "      <td>6</td>\n",
       "      <td>Alphabet Inc.</td>\n",
       "      <td>0001652044</td>\n",
       "      <td>2020-02-04</td>\n",
       "      <td>\\n\\n\\n\\n\\n\\n\\n\\n\\t\\n\\t\\t\\n\\t\\tDocument\\n\\t\\n\\t...</td>\n",
       "    </tr>\n",
       "    <tr>\n",
       "      <th>7</th>\n",
       "      <td>7</td>\n",
       "      <td>Alphabet Inc.</td>\n",
       "      <td>0001652044</td>\n",
       "      <td>2019-02-06</td>\n",
       "      <td>\\n\\nAmendment No. 1 to Form 10-K\\n\\n \\n\\n    \\...</td>\n",
       "    </tr>\n",
       "    <tr>\n",
       "      <th>8</th>\n",
       "      <td>8</td>\n",
       "      <td>Alphabet Inc.</td>\n",
       "      <td>0001652044</td>\n",
       "      <td>2019-02-05</td>\n",
       "      <td>\\n\\n\\n\\t\\n\\t\\t\\n\\t\\t\\n\\t\\tDocument\\n\\t\\n\\t\\nUN...</td>\n",
       "    </tr>\n",
       "    <tr>\n",
       "      <th>9</th>\n",
       "      <td>9</td>\n",
       "      <td>Alphabet Inc.</td>\n",
       "      <td>0001652044</td>\n",
       "      <td>2018-02-06</td>\n",
       "      <td>\\n\\n\\n\\t\\n\\t\\t\\n\\t\\t\\n\\t\\tDocument\\n\\t\\n\\t\\nUN...</td>\n",
       "    </tr>\n",
       "    <tr>\n",
       "      <th>10</th>\n",
       "      <td>10</td>\n",
       "      <td>MICROSOFT CORP</td>\n",
       "      <td>0000789019</td>\n",
       "      <td>2020-07-30</td>\n",
       "      <td>\\n\\n\\n\\n\\n\\n\\n\\n\\n\\n\\nmsft-10k_20200630.htm\\n\\...</td>\n",
       "    </tr>\n",
       "    <tr>\n",
       "      <th>11</th>\n",
       "      <td>11</td>\n",
       "      <td>MICROSOFT CORP</td>\n",
       "      <td>0000789019</td>\n",
       "      <td>2019-08-01</td>\n",
       "      <td>\\n\\n\\n\\n\\nmsft-10k_20190630.htm\\n\\n\\n\\n\\n\\n \\n...</td>\n",
       "    </tr>\n",
       "    <tr>\n",
       "      <th>12</th>\n",
       "      <td>12</td>\n",
       "      <td>MICROSOFT CORP</td>\n",
       "      <td>0000789019</td>\n",
       "      <td>2018-08-03</td>\n",
       "      <td>\\n\\n\\n\\n\\nmsft-10k_20180630.htm\\n\\n\\n\\n\\n\\n \\n...</td>\n",
       "    </tr>\n",
       "    <tr>\n",
       "      <th>13</th>\n",
       "      <td>13</td>\n",
       "      <td>MICROSOFT CORP</td>\n",
       "      <td>0000789019</td>\n",
       "      <td>2017-08-02</td>\n",
       "      <td>\\n\\n\\n\\n\\nmsft-10k_20170630.htm\\n\\n\\n\\n\\n\\n \\n...</td>\n",
       "    </tr>\n",
       "    <tr>\n",
       "      <th>14</th>\n",
       "      <td>14</td>\n",
       "      <td>MICROSOFT CORP</td>\n",
       "      <td>0000789019</td>\n",
       "      <td>2016-07-28</td>\n",
       "      <td>\\n\\n10-K\\n\\n \\nTable of Contents\\n\\n\\n\\n UNITE...</td>\n",
       "    </tr>\n",
       "  </tbody>\n",
       "</table>\n",
       "</div>"
      ],
      "text/plain": [
       "    Index           Title         CIK  10K_Filing  \\\n",
       "0       0  AMAZON COM INC  0001018724  2021-02-03   \n",
       "1       1  AMAZON COM INC  0001018724  2020-01-31   \n",
       "2       2  AMAZON COM INC  0001018724  2019-02-01   \n",
       "3       3  AMAZON COM INC  0001018724  2018-02-02   \n",
       "4       4  AMAZON COM INC  0001018724  2017-02-10   \n",
       "5       5   Alphabet Inc.  0001652044  2021-02-03   \n",
       "6       6   Alphabet Inc.  0001652044  2020-02-04   \n",
       "7       7   Alphabet Inc.  0001652044  2019-02-06   \n",
       "8       8   Alphabet Inc.  0001652044  2019-02-05   \n",
       "9       9   Alphabet Inc.  0001652044  2018-02-06   \n",
       "10     10  MICROSOFT CORP  0000789019  2020-07-30   \n",
       "11     11  MICROSOFT CORP  0000789019  2019-08-01   \n",
       "12     12  MICROSOFT CORP  0000789019  2018-08-03   \n",
       "13     13  MICROSOFT CORP  0000789019  2017-08-02   \n",
       "14     14  MICROSOFT CORP  0000789019  2016-07-28   \n",
       "\n",
       "                                                Story  \n",
       "0   \\n\\n\\n\\n\\namzn-20201231false2020FY0001018724P3...  \n",
       "1   \\n\\n\\n\\n\\n\\n\\n\\n\\t\\n\\t\\t\\n\\t\\tDocument\\n\\t\\n\\t...  \n",
       "2   \\n\\n\\n\\t\\n\\t\\t\\n\\t\\t\\n\\t\\tDocument\\n\\t\\n\\t\\nTa...  \n",
       "3   \\n\\n\\n\\t\\n\\t\\t\\n\\t\\t\\n\\t\\tDocument\\n\\t\\n\\t\\n U...  \n",
       "4   \\n\\n\\n\\t\\n\\t\\t\\n\\t\\t\\n\\t\\tDocument\\n\\t\\n\\t\\n U...  \n",
       "5   \\n\\n\\n\\n\\ngoog-20201231FALSE2020FY0001652044P7...  \n",
       "6   \\n\\n\\n\\n\\n\\n\\n\\n\\t\\n\\t\\t\\n\\t\\tDocument\\n\\t\\n\\t...  \n",
       "7   \\n\\nAmendment No. 1 to Form 10-K\\n\\n \\n\\n    \\...  \n",
       "8   \\n\\n\\n\\t\\n\\t\\t\\n\\t\\t\\n\\t\\tDocument\\n\\t\\n\\t\\nUN...  \n",
       "9   \\n\\n\\n\\t\\n\\t\\t\\n\\t\\t\\n\\t\\tDocument\\n\\t\\n\\t\\nUN...  \n",
       "10  \\n\\n\\n\\n\\n\\n\\n\\n\\n\\n\\nmsft-10k_20200630.htm\\n\\...  \n",
       "11  \\n\\n\\n\\n\\nmsft-10k_20190630.htm\\n\\n\\n\\n\\n\\n \\n...  \n",
       "12  \\n\\n\\n\\n\\nmsft-10k_20180630.htm\\n\\n\\n\\n\\n\\n \\n...  \n",
       "13  \\n\\n\\n\\n\\nmsft-10k_20170630.htm\\n\\n\\n\\n\\n\\n \\n...  \n",
       "14  \\n\\n10-K\\n\\n \\nTable of Contents\\n\\n\\n\\n UNITE...  "
      ]
     },
     "execution_count": 87,
     "metadata": {},
     "output_type": "execute_result"
    }
   ],
   "source": [
    "data"
   ]
  },
  {
   "cell_type": "markdown",
   "metadata": {},
   "source": [
    "## Counting Words and Characters"
   ]
  },
  {
   "cell_type": "markdown",
   "metadata": {},
   "source": [
    "The first bit of analysis we might want to do is to count the number of words in one piece of data. To do this we will add a column called *wordcount* and write an operation that applies a function to every row of the column.\n",
    "\n",
    "Unpacking this piece of code, *len(str(x).split(\" \")*, tells us what is happening.\n",
    "\n",
    "For the content of cell *x*, convert it to a string, *str()*, then split that string into pieces at each space, *split()*.\n",
    "\n",
    "The result of that is a list of all the words in the text and then we can count the length of that list, *len()*."
   ]
  },
  {
   "cell_type": "code",
   "execution_count": 41,
   "metadata": {
    "scrolled": true
   },
   "outputs": [
    {
     "data": {
      "text/html": [
       "<div>\n",
       "<style scoped>\n",
       "    .dataframe tbody tr th:only-of-type {\n",
       "        vertical-align: middle;\n",
       "    }\n",
       "\n",
       "    .dataframe tbody tr th {\n",
       "        vertical-align: top;\n",
       "    }\n",
       "\n",
       "    .dataframe thead th {\n",
       "        text-align: right;\n",
       "    }\n",
       "</style>\n",
       "<table border=\"1\" class=\"dataframe\">\n",
       "  <thead>\n",
       "    <tr style=\"text-align: right;\">\n",
       "      <th></th>\n",
       "      <th>Story</th>\n",
       "      <th>wordcount</th>\n",
       "    </tr>\n",
       "  </thead>\n",
       "  <tbody>\n",
       "    <tr>\n",
       "      <th>0</th>\n",
       "      <td>\\n\\n\\n\\n\\namzn-20201231false2020FY0001018724P3...</td>\n",
       "      <td>34933</td>\n",
       "    </tr>\n",
       "    <tr>\n",
       "      <th>1</th>\n",
       "      <td>\\n\\n\\n\\n\\n\\n\\n\\n\\t\\n\\t\\t\\n\\t\\tDocument\\n\\t\\n\\t...</td>\n",
       "      <td>36029</td>\n",
       "    </tr>\n",
       "    <tr>\n",
       "      <th>2</th>\n",
       "      <td>\\n\\n\\n\\t\\n\\t\\t\\n\\t\\t\\n\\t\\tDocument\\n\\t\\n\\t\\nTa...</td>\n",
       "      <td>35638</td>\n",
       "    </tr>\n",
       "    <tr>\n",
       "      <th>3</th>\n",
       "      <td>\\n\\n\\n\\t\\n\\t\\t\\n\\t\\t\\n\\t\\tDocument\\n\\t\\n\\t\\n U...</td>\n",
       "      <td>38136</td>\n",
       "    </tr>\n",
       "    <tr>\n",
       "      <th>4</th>\n",
       "      <td>\\n\\n\\n\\t\\n\\t\\t\\n\\t\\t\\n\\t\\tDocument\\n\\t\\n\\t\\n U...</td>\n",
       "      <td>35826</td>\n",
       "    </tr>\n",
       "  </tbody>\n",
       "</table>\n",
       "</div>"
      ],
      "text/plain": [
       "                                               Story  wordcount\n",
       "0  \\n\\n\\n\\n\\namzn-20201231false2020FY0001018724P3...      34933\n",
       "1  \\n\\n\\n\\n\\n\\n\\n\\n\\t\\n\\t\\t\\n\\t\\tDocument\\n\\t\\n\\t...      36029\n",
       "2  \\n\\n\\n\\t\\n\\t\\t\\n\\t\\t\\n\\t\\tDocument\\n\\t\\n\\t\\nTa...      35638\n",
       "3  \\n\\n\\n\\t\\n\\t\\t\\n\\t\\t\\n\\t\\tDocument\\n\\t\\n\\t\\n U...      38136\n",
       "4  \\n\\n\\n\\t\\n\\t\\t\\n\\t\\t\\n\\t\\tDocument\\n\\t\\n\\t\\n U...      35826"
      ]
     },
     "execution_count": 41,
     "metadata": {},
     "output_type": "execute_result"
    }
   ],
   "source": [
    "data['wordcount'] = data['Story'].apply(lambda x: len(str(x).split(\" \")))\n",
    "data[['Story','wordcount']].head()"
   ]
  },
  {
   "cell_type": "markdown",
   "metadata": {},
   "source": [
    "We can do something similar to count the number of characters in the data chunk, including spaces. If you wanted to exclude whitespaces, you could take the list we made above, join it together and count the length of the resulting string."
   ]
  },
  {
   "cell_type": "code",
   "execution_count": 42,
   "metadata": {},
   "outputs": [],
   "source": [
    "data = data.fillna(\"No Information Provided\") #If some of our data is missing, this will replace the blank entries. This is only necessary in some cases"
   ]
  },
  {
   "cell_type": "code",
   "execution_count": 43,
   "metadata": {},
   "outputs": [
    {
     "data": {
      "text/html": [
       "<div>\n",
       "<style scoped>\n",
       "    .dataframe tbody tr th:only-of-type {\n",
       "        vertical-align: middle;\n",
       "    }\n",
       "\n",
       "    .dataframe tbody tr th {\n",
       "        vertical-align: top;\n",
       "    }\n",
       "\n",
       "    .dataframe thead th {\n",
       "        text-align: right;\n",
       "    }\n",
       "</style>\n",
       "<table border=\"1\" class=\"dataframe\">\n",
       "  <thead>\n",
       "    <tr style=\"text-align: right;\">\n",
       "      <th></th>\n",
       "      <th>Story</th>\n",
       "      <th>char_count</th>\n",
       "    </tr>\n",
       "  </thead>\n",
       "  <tbody>\n",
       "    <tr>\n",
       "      <th>0</th>\n",
       "      <td>\\n\\n\\n\\n\\namzn-20201231false2020FY0001018724P3...</td>\n",
       "      <td>274004</td>\n",
       "    </tr>\n",
       "    <tr>\n",
       "      <th>1</th>\n",
       "      <td>\\n\\n\\n\\n\\n\\n\\n\\n\\t\\n\\t\\t\\n\\t\\tDocument\\n\\t\\n\\t...</td>\n",
       "      <td>305025</td>\n",
       "    </tr>\n",
       "    <tr>\n",
       "      <th>2</th>\n",
       "      <td>\\n\\n\\n\\t\\n\\t\\t\\n\\t\\t\\n\\t\\tDocument\\n\\t\\n\\t\\nTa...</td>\n",
       "      <td>260659</td>\n",
       "    </tr>\n",
       "    <tr>\n",
       "      <th>3</th>\n",
       "      <td>\\n\\n\\n\\t\\n\\t\\t\\n\\t\\t\\n\\t\\tDocument\\n\\t\\n\\t\\n U...</td>\n",
       "      <td>278259</td>\n",
       "    </tr>\n",
       "    <tr>\n",
       "      <th>4</th>\n",
       "      <td>\\n\\n\\n\\t\\n\\t\\t\\n\\t\\t\\n\\t\\tDocument\\n\\t\\n\\t\\n U...</td>\n",
       "      <td>264663</td>\n",
       "    </tr>\n",
       "  </tbody>\n",
       "</table>\n",
       "</div>"
      ],
      "text/plain": [
       "                                               Story  char_count\n",
       "0  \\n\\n\\n\\n\\namzn-20201231false2020FY0001018724P3...      274004\n",
       "1  \\n\\n\\n\\n\\n\\n\\n\\n\\t\\n\\t\\t\\n\\t\\tDocument\\n\\t\\n\\t...      305025\n",
       "2  \\n\\n\\n\\t\\n\\t\\t\\n\\t\\t\\n\\t\\tDocument\\n\\t\\n\\t\\nTa...      260659\n",
       "3  \\n\\n\\n\\t\\n\\t\\t\\n\\t\\t\\n\\t\\tDocument\\n\\t\\n\\t\\n U...      278259\n",
       "4  \\n\\n\\n\\t\\n\\t\\t\\n\\t\\t\\n\\t\\tDocument\\n\\t\\n\\t\\n U...      264663"
      ]
     },
     "execution_count": 43,
     "metadata": {},
     "output_type": "execute_result"
    }
   ],
   "source": [
    "data['char_count'] = data['Story'].str.len() ## this also includes spaces, to do it without spaces, you could use something like this: \"\".join()\n",
    "data[['Story','char_count']].head()"
   ]
  },
  {
   "cell_type": "markdown",
   "metadata": {},
   "source": [
    "Now we want to calculate the average word length in the data.\n",
    "\n",
    "Let's define a function that will do that for us:"
   ]
  },
  {
   "cell_type": "code",
   "execution_count": 44,
   "metadata": {},
   "outputs": [],
   "source": [
    "def avg_word(sentence):\n",
    "    words = sentence.split()\n",
    "    return (sum(len(word) for word in words)/len(words))"
   ]
  },
  {
   "cell_type": "markdown",
   "metadata": {},
   "source": [
    "We can now apply that function to all the data chunks and save that in a new column."
   ]
  },
  {
   "cell_type": "code",
   "execution_count": 45,
   "metadata": {},
   "outputs": [
    {
     "data": {
      "text/html": [
       "<div>\n",
       "<style scoped>\n",
       "    .dataframe tbody tr th:only-of-type {\n",
       "        vertical-align: middle;\n",
       "    }\n",
       "\n",
       "    .dataframe tbody tr th {\n",
       "        vertical-align: top;\n",
       "    }\n",
       "\n",
       "    .dataframe thead th {\n",
       "        text-align: right;\n",
       "    }\n",
       "</style>\n",
       "<table border=\"1\" class=\"dataframe\">\n",
       "  <thead>\n",
       "    <tr style=\"text-align: right;\">\n",
       "      <th></th>\n",
       "      <th>Story</th>\n",
       "      <th>avg_word</th>\n",
       "    </tr>\n",
       "  </thead>\n",
       "  <tbody>\n",
       "    <tr>\n",
       "      <th>0</th>\n",
       "      <td>\\n\\n\\n\\n\\namzn-20201231false2020FY0001018724P3...</td>\n",
       "      <td>6.652604</td>\n",
       "    </tr>\n",
       "    <tr>\n",
       "      <th>1</th>\n",
       "      <td>\\n\\n\\n\\n\\n\\n\\n\\n\\t\\n\\t\\t\\n\\t\\tDocument\\n\\t\\n\\t...</td>\n",
       "      <td>6.460655</td>\n",
       "    </tr>\n",
       "    <tr>\n",
       "      <th>2</th>\n",
       "      <td>\\n\\n\\n\\t\\n\\t\\t\\n\\t\\t\\n\\t\\tDocument\\n\\t\\n\\t\\nTa...</td>\n",
       "      <td>5.941362</td>\n",
       "    </tr>\n",
       "    <tr>\n",
       "      <th>3</th>\n",
       "      <td>\\n\\n\\n\\t\\n\\t\\t\\n\\t\\t\\n\\t\\tDocument\\n\\t\\n\\t\\n U...</td>\n",
       "      <td>5.933047</td>\n",
       "    </tr>\n",
       "    <tr>\n",
       "      <th>4</th>\n",
       "      <td>\\n\\n\\n\\t\\n\\t\\t\\n\\t\\t\\n\\t\\tDocument\\n\\t\\n\\t\\n U...</td>\n",
       "      <td>5.977988</td>\n",
       "    </tr>\n",
       "  </tbody>\n",
       "</table>\n",
       "</div>"
      ],
      "text/plain": [
       "                                               Story  avg_word\n",
       "0  \\n\\n\\n\\n\\namzn-20201231false2020FY0001018724P3...  6.652604\n",
       "1  \\n\\n\\n\\n\\n\\n\\n\\n\\t\\n\\t\\t\\n\\t\\tDocument\\n\\t\\n\\t...  6.460655\n",
       "2  \\n\\n\\n\\t\\n\\t\\t\\n\\t\\t\\n\\t\\tDocument\\n\\t\\n\\t\\nTa...  5.941362\n",
       "3  \\n\\n\\n\\t\\n\\t\\t\\n\\t\\t\\n\\t\\tDocument\\n\\t\\n\\t\\n U...  5.933047\n",
       "4  \\n\\n\\n\\t\\n\\t\\t\\n\\t\\t\\n\\t\\tDocument\\n\\t\\n\\t\\n U...  5.977988"
      ]
     },
     "execution_count": 45,
     "metadata": {},
     "output_type": "execute_result"
    }
   ],
   "source": [
    "data['avg_word'] = data['Story'].apply(lambda x: avg_word(x))\n",
    "data[['Story','avg_word']].head()"
   ]
  },
  {
   "cell_type": "markdown",
   "metadata": {},
   "source": [
    "We can then sort by the average word length."
   ]
  },
  {
   "cell_type": "code",
   "execution_count": 46,
   "metadata": {},
   "outputs": [
    {
     "data": {
      "text/html": [
       "<div>\n",
       "<style scoped>\n",
       "    .dataframe tbody tr th:only-of-type {\n",
       "        vertical-align: middle;\n",
       "    }\n",
       "\n",
       "    .dataframe tbody tr th {\n",
       "        vertical-align: top;\n",
       "    }\n",
       "\n",
       "    .dataframe thead th {\n",
       "        text-align: right;\n",
       "    }\n",
       "</style>\n",
       "<table border=\"1\" class=\"dataframe\">\n",
       "  <thead>\n",
       "    <tr style=\"text-align: right;\">\n",
       "      <th></th>\n",
       "      <th>Story</th>\n",
       "      <th>avg_word</th>\n",
       "    </tr>\n",
       "  </thead>\n",
       "  <tbody>\n",
       "    <tr>\n",
       "      <th>7</th>\n",
       "      <td>\\n\\nAmendment No. 1 to Form 10-K\\n\\n \\n\\n    \\...</td>\n",
       "      <td>5.301764</td>\n",
       "    </tr>\n",
       "    <tr>\n",
       "      <th>12</th>\n",
       "      <td>\\n\\n\\n\\n\\nmsft-10k_20180630.htm\\n\\n\\n\\n\\n\\n \\n...</td>\n",
       "      <td>5.546546</td>\n",
       "    </tr>\n",
       "    <tr>\n",
       "      <th>14</th>\n",
       "      <td>\\n\\n10-K\\n\\n \\nTable of Contents\\n\\n\\n\\n UNITE...</td>\n",
       "      <td>5.553925</td>\n",
       "    </tr>\n",
       "    <tr>\n",
       "      <th>13</th>\n",
       "      <td>\\n\\n\\n\\n\\nmsft-10k_20170630.htm\\n\\n\\n\\n\\n\\n \\n...</td>\n",
       "      <td>5.575125</td>\n",
       "    </tr>\n",
       "    <tr>\n",
       "      <th>11</th>\n",
       "      <td>\\n\\n\\n\\n\\nmsft-10k_20190630.htm\\n\\n\\n\\n\\n\\n \\n...</td>\n",
       "      <td>5.580830</td>\n",
       "    </tr>\n",
       "  </tbody>\n",
       "</table>\n",
       "</div>"
      ],
      "text/plain": [
       "                                                Story  avg_word\n",
       "7   \\n\\nAmendment No. 1 to Form 10-K\\n\\n \\n\\n    \\...  5.301764\n",
       "12  \\n\\n\\n\\n\\nmsft-10k_20180630.htm\\n\\n\\n\\n\\n\\n \\n...  5.546546\n",
       "14  \\n\\n10-K\\n\\n \\nTable of Contents\\n\\n\\n\\n UNITE...  5.553925\n",
       "13  \\n\\n\\n\\n\\nmsft-10k_20170630.htm\\n\\n\\n\\n\\n\\n \\n...  5.575125\n",
       "11  \\n\\n\\n\\n\\nmsft-10k_20190630.htm\\n\\n\\n\\n\\n\\n \\n...  5.580830"
      ]
     },
     "execution_count": 46,
     "metadata": {},
     "output_type": "execute_result"
    }
   ],
   "source": [
    "data[['Story','avg_word']].sort_values(by='avg_word', ascending=True).head()"
   ]
  },
  {
   "cell_type": "markdown",
   "metadata": {},
   "source": [
    "# Processing Text"
   ]
  },
  {
   "cell_type": "markdown",
   "metadata": {},
   "source": [
    "A major component of doing analysis on text is the cleaning of the text prior to the analysis.\n",
    "\n",
    "Though this process destroys some elements of the text (sentence structure, for example), it is often necessary in order to describe a text analytically. Depending on your choice of cleaning techniques, some elements might be preserved better than others if that is of importance to your analysis."
   ]
  },
  {
   "cell_type": "markdown",
   "metadata": {},
   "source": [
    "## Cleaning Up Words"
   ]
  },
  {
   "cell_type": "markdown",
   "metadata": {},
   "source": [
    "This series of steps aims to clean up and standardize the text itself. This generally consists of removing common elements such as stopwords and punctuation but can be expanded to more detailed removals."
   ]
  },
  {
   "cell_type": "markdown",
   "metadata": {},
   "source": [
    "### Lowercase"
   ]
  },
  {
   "cell_type": "markdown",
   "metadata": {},
   "source": [
    "Here we enforce that all of the text is lowercase. This makes it easier to match cases and sort words.\n",
    "\n",
    "Notice we are assigning our modified column back to itself. This will save our modifications to our DataFrame"
   ]
  },
  {
   "cell_type": "code",
   "execution_count": 47,
   "metadata": {},
   "outputs": [
    {
     "data": {
      "text/plain": [
       "0    amzn-20201231false2020fy0001018724p3yp1yp1yus-...\n",
       "1    document 0.5p1yp1yp1y0029000000false--12-31fy2...\n",
       "2    document table of contents united statessecuri...\n",
       "3    document united statessecurities and exchange ...\n",
       "4    document united statessecurities and exchange ...\n",
       "Name: Story, dtype: object"
      ]
     },
     "execution_count": 47,
     "metadata": {},
     "output_type": "execute_result"
    }
   ],
   "source": [
    "data['Story'] = data['Story'].apply(lambda x: \" \".join(x.lower() for x in x.split()))\n",
    "data['Story'].head()"
   ]
  },
  {
   "cell_type": "markdown",
   "metadata": {},
   "source": [
    "### Remove Punctuation"
   ]
  },
  {
   "cell_type": "markdown",
   "metadata": {},
   "source": [
    "Here we remove all punctuation from the data. This allows us to focus on the words only as well as assist in matching."
   ]
  },
  {
   "cell_type": "code",
   "execution_count": 48,
   "metadata": {},
   "outputs": [
    {
     "data": {
      "text/plain": [
       "0    amzn20201231false2020fy0001018724p3yp1yp1yusga...\n",
       "1    document 05p1yp1yp1y0029000000false1231fy20190...\n",
       "2    document table of contents united statessecuri...\n",
       "3    document united statessecurities and exchange ...\n",
       "4    document united statessecurities and exchange ...\n",
       "Name: Story, dtype: object"
      ]
     },
     "execution_count": 48,
     "metadata": {},
     "output_type": "execute_result"
    }
   ],
   "source": [
    "data['Story'] = data['Story'].str.replace('[^\\w\\s]','')\n",
    "data['Story'].head()"
   ]
  },
  {
   "cell_type": "markdown",
   "metadata": {},
   "source": [
    "### Remove Stopwords"
   ]
  },
  {
   "cell_type": "markdown",
   "metadata": {},
   "source": [
    "Stopwords are words that are commonly used and do little to aid in the understanding of the content of a text. There is no universal list of stopwords and they vary on the style, time period and media from which your text came from.  Typically, people choose to remove stopwords from their data, as it adds extra clutter while the words themselves provide little to no insight as to the nature of the data.  For now, we are simply going to count them to get an idea of how many there are.\n",
    "\n",
    "For this tutorial, we will use the standard list of stopwords provided by the Natural Language Toolkit python library."
   ]
  },
  {
   "cell_type": "code",
   "execution_count": 49,
   "metadata": {},
   "outputs": [
    {
     "data": {
      "text/plain": [
       "0    amzn20201231false2020fy0001018724p3yp1yp1yusga...\n",
       "1    document 05p1yp1yp1y0029000000false1231fy20190...\n",
       "2    document table contents united statessecuritie...\n",
       "3    document united statessecurities exchange comm...\n",
       "4    document united statessecurities exchange comm...\n",
       "Name: Story, dtype: object"
      ]
     },
     "execution_count": 49,
     "metadata": {},
     "output_type": "execute_result"
    }
   ],
   "source": [
    "from nltk.corpus import stopwords\n",
    "stop = stopwords.words('english')\n",
    "data['Story'] = data['Story'].apply(lambda x: \" \".join(x for x in x.split() if x not in stop))\n",
    "data['Story'].head()"
   ]
  },
  {
   "cell_type": "markdown",
   "metadata": {},
   "source": [
    "### Remove Frequent Words"
   ]
  },
  {
   "cell_type": "markdown",
   "metadata": {},
   "source": [
    "If we want to catch common words that might have slipped through the stopword removal, we can build out a list of the most common words remaining in our text.\n",
    "\n",
    "Here we have built a list of the 10 most common words. Some of these words might actually be relevant to our analysis so it is important to be careful with this method."
   ]
  },
  {
   "cell_type": "code",
   "execution_count": 50,
   "metadata": {},
   "outputs": [
    {
     "data": {
      "text/plain": [
       "may          2773\n",
       "services     2746\n",
       "tax          2715\n",
       "income       2609\n",
       "financial    2463\n",
       "billion      2189\n",
       "us           2160\n",
       "products     2142\n",
       "revenue      2120\n",
       "cash         2094\n",
       "dtype: int64"
      ]
     },
     "execution_count": 50,
     "metadata": {},
     "output_type": "execute_result"
    }
   ],
   "source": [
    "freq = pd.Series(' '.join(data['Story']).split()).value_counts()[:10]\n",
    "freq"
   ]
  },
  {
   "cell_type": "markdown",
   "metadata": {},
   "source": [
    "We now follow the same procedure with which we removed stopwords to remove the most frequent words."
   ]
  },
  {
   "cell_type": "code",
   "execution_count": 51,
   "metadata": {},
   "outputs": [
    {
     "data": {
      "text/plain": [
       "0    amzn20201231false2020fy0001018724p3yp1yp1yusga...\n",
       "1    document 05p1yp1yp1y0029000000false1231fy20190...\n",
       "2    document table contents united statessecuritie...\n",
       "3    document united statessecurities exchange comm...\n",
       "4    document united statessecurities exchange comm...\n",
       "Name: Story, dtype: object"
      ]
     },
     "execution_count": 51,
     "metadata": {},
     "output_type": "execute_result"
    }
   ],
   "source": [
    "freq = list(freq.index)\n",
    "data['Story'] = data['Story'].apply(lambda x: \" \".join(x for x in x.split() if x not in freq))\n",
    "data['Story'].head()"
   ]
  },
  {
   "cell_type": "markdown",
   "metadata": {},
   "source": [
    "## Lemmatization"
   ]
  },
  {
   "cell_type": "markdown",
   "metadata": {},
   "source": [
    "Lemmatization is often a more useful approach than stemming because it leverages an understanding of the word itself to convert the word back to its root word. However, this means lemmatization is less aggressive than stemming (probably a good thing)."
   ]
  },
  {
   "cell_type": "code",
   "execution_count": 52,
   "metadata": {},
   "outputs": [],
   "source": [
    "#import nltk\n",
    "#nltk.download('wordnet')"
   ]
  },
  {
   "cell_type": "code",
   "execution_count": 53,
   "metadata": {},
   "outputs": [
    {
     "data": {
      "text/plain": [
       "0    amzn20201231false2020fy0001018724p3yp1yp1yusga...\n",
       "1    document 05p1yp1yp1y0029000000false1231fy20190...\n",
       "2    document table content united statessecurities...\n",
       "3    document united statessecurities exchange comm...\n",
       "4    document united statessecurities exchange comm...\n",
       "Name: Story, dtype: object"
      ]
     },
     "execution_count": 53,
     "metadata": {},
     "output_type": "execute_result"
    }
   ],
   "source": [
    "from textblob import Word\n",
    "data['Story'] = data['Story'].apply(lambda x: \" \".join([Word(word).lemmatize() for word in x.split()]))\n",
    "data['Story'].head()"
   ]
  },
  {
   "cell_type": "markdown",
   "metadata": {},
   "source": [
    "At this point we have a several options for cleaning and structuring our text data. The next section will focus on more advanced ways to study text analytically."
   ]
  },
  {
   "cell_type": "markdown",
   "metadata": {},
   "source": [
    "# Advanced Text Processing"
   ]
  },
  {
   "cell_type": "markdown",
   "metadata": {},
   "source": [
    "This section focuses on more complex methods of analyzing textual data. We will continue to work with our same DataFrame."
   ]
  },
  {
   "cell_type": "markdown",
   "metadata": {},
   "source": [
    "## N-grams"
   ]
  },
  {
   "cell_type": "markdown",
   "metadata": {},
   "source": [
    "N-grams are combinations of multiple words as they appear in the text. The N refers to the number of words captured in the list. N-grams with N=1 are referred unigrams and are just a nested list of all the words in the text. Following a similar pattern, bigrams (N=2), trigrams (N=3), etc. can be used.\n",
    "\n",
    "N-grams allow you to capture the structure of the text which can be very useful. For instance, counting the number of bigrams where \"said\" was preceded by \"he\" vs \"she\" could give you an idea of the gender breakdown of speakers in a text. However, if you make your N-grams too long, you lose the ability to make comparisons.\n",
    "\n",
    "Another concern, especially in very large data sets, is that the memory storage of N-grams scales with N (bigrams are twice as large as unigrams, for example) and the time to process the N-grams can balloon dramatically as well.\n",
    "\n",
    "All that being said, we would suggest focusing on bigrams and trigrams as useful analysis tools."
   ]
  },
  {
   "cell_type": "code",
   "execution_count": 54,
   "metadata": {},
   "outputs": [],
   "source": [
    "from nltk.stem import WordNetLemmatizer\n",
    "from textblob import TextBlob\n",
    "\n",
    "lemmatizer = WordNetLemmatizer()\n",
    "n_grams = TextBlob(data['Story'][1]).ngrams(2)"
   ]
  },
  {
   "cell_type": "code",
   "execution_count": 55,
   "metadata": {},
   "outputs": [],
   "source": [
    "characters=[]\n",
    "for i in ['wolf', 'mouse', 'rabbit', 'children']:\n",
    "     characters.append(lemmatizer.lemmatize(i))"
   ]
  },
  {
   "cell_type": "code",
   "execution_count": 56,
   "metadata": {},
   "outputs": [],
   "source": [
    "for n in n_grams:\n",
    "    if n[1] in characters:\n",
    "        print(n)"
   ]
  },
  {
   "cell_type": "code",
   "execution_count": 57,
   "metadata": {},
   "outputs": [
    {
     "name": "stdout",
     "output_type": "stream",
     "text": [
      "(('december', '31'), 167)\n",
      "(('20191231', '0001018724'), 128)\n",
      "(('20181231', '0001018724'), 112)\n",
      "(('2018', '2019'), 74)\n",
      "(('20171231', '0001018724'), 69)\n",
      "(('31', '2019'), 63)\n",
      "(('20190101', '20191231'), 61)\n",
      "(('ended', 'december'), 57)\n",
      "(('consolidated', 'statement'), 55)\n",
      "(('31', '2018'), 55)\n"
     ]
    }
   ],
   "source": [
    "from nltk import ngrams\n",
    "from collections import Counter\n",
    "\n",
    "ngram_counts = Counter(ngrams(data['Story'][1].split(), 2))\n",
    "for n in ngram_counts.most_common(10):\n",
    "    print(n)"
   ]
  },
  {
   "cell_type": "markdown",
   "metadata": {},
   "source": [
    "## Term Frequency"
   ]
  },
  {
   "cell_type": "markdown",
   "metadata": {},
   "source": [
    "Term Frequency is a measure of how often a term appears in a document. There are different ways to define this but the simplest is a raw count of the number of times each term appears.\n",
    "\n",
    "There are other ways of defining this including a true term frequency and a log scaled definition. All three have been implemented below but the default will the raw count definition, as it matches with the remainder of the definitions in this tutorial.\n",
    "\n",
    "|Definition|Formula|\n",
    "|---|---|\n",
    "|Raw Count|$$f_{t,d}$$|\n",
    "|Term Frequency|$$\\frac{f_{t,d}}{\\sum_{t'\\in d}f_{t',d}}$$|\n",
    "|Log Scaled|$$\\log(1+f_{t,d})$$|\n",
    "\n"
   ]
  },
  {
   "cell_type": "code",
   "execution_count": 58,
   "metadata": {},
   "outputs": [
    {
     "data": {
      "text/html": [
       "<div>\n",
       "<style scoped>\n",
       "    .dataframe tbody tr th:only-of-type {\n",
       "        vertical-align: middle;\n",
       "    }\n",
       "\n",
       "    .dataframe tbody tr th {\n",
       "        vertical-align: top;\n",
       "    }\n",
       "\n",
       "    .dataframe thead th {\n",
       "        text-align: right;\n",
       "    }\n",
       "</style>\n",
       "<table border=\"1\" class=\"dataframe\">\n",
       "  <thead>\n",
       "    <tr style=\"text-align: right;\">\n",
       "      <th></th>\n",
       "      <th>words</th>\n",
       "      <th>tf</th>\n",
       "    </tr>\n",
       "  </thead>\n",
       "  <tbody>\n",
       "    <tr>\n",
       "      <th>1</th>\n",
       "      <td>december</td>\n",
       "      <td>971.0</td>\n",
       "    </tr>\n",
       "    <tr>\n",
       "      <th>9</th>\n",
       "      <td>million</td>\n",
       "      <td>937.0</td>\n",
       "    </tr>\n",
       "    <tr>\n",
       "      <th>2</th>\n",
       "      <td>31</td>\n",
       "      <td>878.0</td>\n",
       "    </tr>\n",
       "    <tr>\n",
       "      <th>3</th>\n",
       "      <td>sale</td>\n",
       "      <td>823.0</td>\n",
       "    </tr>\n",
       "    <tr>\n",
       "      <th>4</th>\n",
       "      <td>cost</td>\n",
       "      <td>771.0</td>\n",
       "    </tr>\n",
       "    <tr>\n",
       "      <th>5</th>\n",
       "      <td>operating</td>\n",
       "      <td>680.0</td>\n",
       "    </tr>\n",
       "    <tr>\n",
       "      <th>7</th>\n",
       "      <td>net</td>\n",
       "      <td>668.0</td>\n",
       "    </tr>\n",
       "    <tr>\n",
       "      <th>361</th>\n",
       "      <td>2017</td>\n",
       "      <td>626.0</td>\n",
       "    </tr>\n",
       "    <tr>\n",
       "      <th>6</th>\n",
       "      <td>including</td>\n",
       "      <td>619.0</td>\n",
       "    </tr>\n",
       "    <tr>\n",
       "      <th>11</th>\n",
       "      <td>result</td>\n",
       "      <td>581.0</td>\n",
       "    </tr>\n",
       "  </tbody>\n",
       "</table>\n",
       "</div>"
      ],
      "text/plain": [
       "         words     tf\n",
       "1     december  971.0\n",
       "9      million  937.0\n",
       "2           31  878.0\n",
       "3         sale  823.0\n",
       "4         cost  771.0\n",
       "5    operating  680.0\n",
       "7          net  668.0\n",
       "361       2017  626.0\n",
       "6    including  619.0\n",
       "11      result  581.0"
      ]
     },
     "execution_count": 58,
     "metadata": {},
     "output_type": "execute_result"
    }
   ],
   "source": [
    "## Raw Count Definition\n",
    "tf1 = (data['Story'][0:5]).apply(lambda x: pd.value_counts(x.split(\" \"))).sum(axis = 0).reset_index()\n",
    "\n",
    "## Term Frequency Definition\n",
    "#tf1 = (data['Story'][0:5]).apply(lambda x: (pd.value_counts(x.split(\" \")))/len(x.split(\" \"))).sum(axis = 0).reset_index() \n",
    "\n",
    "## Log Scaled Definition\n",
    "#tf1 = (data['Story'][0:10]).apply(lambda x: 1.0+np.log(pd.value_counts(x.split(\" \")))).sum(axis = 0).reset_index() \n",
    "\n",
    "tf1.columns = ['words','tf']\n",
    "tf1.sort_values(by='tf', ascending=False)[:10]"
   ]
  },
  {
   "cell_type": "markdown",
   "metadata": {},
   "source": [
    "## Inverse Document Frequency"
   ]
  },
  {
   "cell_type": "markdown",
   "metadata": {},
   "source": [
    "Inverse Document Frequency is a measure of how common or rare a term is across multiple documents. That gives a measure of how much weight that term carries.\n",
    "\n",
    "For a more concrete analogy of this, imagine a room full of NBA players; here a 7 foot tall person wouldn't be all that shocking. However if you have a room full of kindergarten students, a 7 foot tall person would be a huge surprise.\n",
    "\n",
    "The simplest and standard definition of Inverse Document Frequency is to take the logarithm of the ratio of the number of documents containing a term to the total number of documents.\n",
    "\n",
    "$$-\\log\\frac{n_t}{N} = \\log\\frac{N}{n_t}$$\n"
   ]
  },
  {
   "cell_type": "code",
   "execution_count": 59,
   "metadata": {},
   "outputs": [
    {
     "data": {
      "text/html": [
       "<div>\n",
       "<style scoped>\n",
       "    .dataframe tbody tr th:only-of-type {\n",
       "        vertical-align: middle;\n",
       "    }\n",
       "\n",
       "    .dataframe tbody tr th {\n",
       "        vertical-align: top;\n",
       "    }\n",
       "\n",
       "    .dataframe thead th {\n",
       "        text-align: right;\n",
       "    }\n",
       "</style>\n",
       "<table border=\"1\" class=\"dataframe\">\n",
       "  <thead>\n",
       "    <tr style=\"text-align: right;\">\n",
       "      <th></th>\n",
       "      <th>words</th>\n",
       "      <th>tf</th>\n",
       "      <th>idf</th>\n",
       "    </tr>\n",
       "  </thead>\n",
       "  <tbody>\n",
       "    <tr>\n",
       "      <th>0</th>\n",
       "      <td>2020</td>\n",
       "      <td>228.0</td>\n",
       "      <td>0.068993</td>\n",
       "    </tr>\n",
       "    <tr>\n",
       "      <th>1</th>\n",
       "      <td>december</td>\n",
       "      <td>971.0</td>\n",
       "      <td>0.000000</td>\n",
       "    </tr>\n",
       "    <tr>\n",
       "      <th>2</th>\n",
       "      <td>31</td>\n",
       "      <td>878.0</td>\n",
       "      <td>0.000000</td>\n",
       "    </tr>\n",
       "    <tr>\n",
       "      <th>3</th>\n",
       "      <td>sale</td>\n",
       "      <td>823.0</td>\n",
       "      <td>0.000000</td>\n",
       "    </tr>\n",
       "    <tr>\n",
       "      <th>4</th>\n",
       "      <td>cost</td>\n",
       "      <td>771.0</td>\n",
       "      <td>0.068993</td>\n",
       "    </tr>\n",
       "    <tr>\n",
       "      <th>5</th>\n",
       "      <td>operating</td>\n",
       "      <td>680.0</td>\n",
       "      <td>0.068993</td>\n",
       "    </tr>\n",
       "    <tr>\n",
       "      <th>6</th>\n",
       "      <td>including</td>\n",
       "      <td>619.0</td>\n",
       "      <td>0.000000</td>\n",
       "    </tr>\n",
       "    <tr>\n",
       "      <th>7</th>\n",
       "      <td>net</td>\n",
       "      <td>668.0</td>\n",
       "      <td>0.068993</td>\n",
       "    </tr>\n",
       "    <tr>\n",
       "      <th>8</th>\n",
       "      <td>lease</td>\n",
       "      <td>547.0</td>\n",
       "      <td>0.068993</td>\n",
       "    </tr>\n",
       "    <tr>\n",
       "      <th>9</th>\n",
       "      <td>million</td>\n",
       "      <td>937.0</td>\n",
       "      <td>0.068993</td>\n",
       "    </tr>\n",
       "  </tbody>\n",
       "</table>\n",
       "</div>"
      ],
      "text/plain": [
       "       words     tf       idf\n",
       "0       2020  228.0  0.068993\n",
       "1   december  971.0  0.000000\n",
       "2         31  878.0  0.000000\n",
       "3       sale  823.0  0.000000\n",
       "4       cost  771.0  0.068993\n",
       "5  operating  680.0  0.068993\n",
       "6  including  619.0  0.000000\n",
       "7        net  668.0  0.068993\n",
       "8      lease  547.0  0.068993\n",
       "9    million  937.0  0.068993"
      ]
     },
     "execution_count": 59,
     "metadata": {},
     "output_type": "execute_result"
    }
   ],
   "source": [
    "for i,word in enumerate(tf1['words']):\n",
    "    tf1.loc[i, 'idf'] = np.log(data.shape[0]/(len(data[data['Story'].str.contains(word)])))\n",
    "\n",
    "tf1[:10]"
   ]
  },
  {
   "cell_type": "markdown",
   "metadata": {},
   "source": [
    "## Term Frequency – Inverse Document Frequency ([TF-IDF](https://en.wikipedia.org/wiki/Tf%E2%80%93idf))"
   ]
  },
  {
   "cell_type": "markdown",
   "metadata": {},
   "source": [
    "Term Frequency – Inverse Document Frequency (TF-IDF) is a composite measure of both Term Frequency and Inverse Document Frequency.\n",
    "\n",
    "From [Wikipedia](https://en.wikipedia.org/wiki/Tf%E2%80%93idf):\n",
    "\"A high weight in TF–IDF is reached by a high term frequency (in the given document) and a low document frequency of the term in the whole collection of documents; the weights hence tend to filter out common terms\"\n",
    "\n",
    "More concisely, a high TD-IDF says that a word is very important in the documents in which it appears.\n",
    "\n",
    "There are a few weighting schemes for TF-IDF. Here we use scheme (1).\n",
    "\n",
    "|Weighting Scheme|Document Term Weight|\n",
    "|---|---|\n",
    "|(1)|$$f_{t,d}\\cdot\\log\\frac{N}{n_t}$$|\n",
    "|(2)|$$1+\\log(f_{t,d})$$|\n",
    "|(3)|$$(1+\\log(f_{t,d}))\\cdot\\log\\frac{N}{n_t}$$|"
   ]
  },
  {
   "cell_type": "code",
   "execution_count": 60,
   "metadata": {
    "scrolled": true
   },
   "outputs": [
    {
     "data": {
      "text/html": [
       "<div>\n",
       "<style scoped>\n",
       "    .dataframe tbody tr th:only-of-type {\n",
       "        vertical-align: middle;\n",
       "    }\n",
       "\n",
       "    .dataframe tbody tr th {\n",
       "        vertical-align: top;\n",
       "    }\n",
       "\n",
       "    .dataframe thead th {\n",
       "        text-align: right;\n",
       "    }\n",
       "</style>\n",
       "<table border=\"1\" class=\"dataframe\">\n",
       "  <thead>\n",
       "    <tr style=\"text-align: right;\">\n",
       "      <th></th>\n",
       "      <th>words</th>\n",
       "      <th>tf</th>\n",
       "      <th>idf</th>\n",
       "      <th>tfidf</th>\n",
       "    </tr>\n",
       "  </thead>\n",
       "  <tbody>\n",
       "    <tr>\n",
       "      <th>4413</th>\n",
       "      <td>0001018724</td>\n",
       "      <td>348.0</td>\n",
       "      <td>2.014903</td>\n",
       "      <td>701.186251</td>\n",
       "    </tr>\n",
       "    <tr>\n",
       "      <th>153</th>\n",
       "      <td>amazoncom</td>\n",
       "      <td>202.0</td>\n",
       "      <td>1.098612</td>\n",
       "      <td>221.919682</td>\n",
       "    </tr>\n",
       "    <tr>\n",
       "      <th>4414</th>\n",
       "      <td>20191231</td>\n",
       "      <td>128.0</td>\n",
       "      <td>1.098612</td>\n",
       "      <td>140.622373</td>\n",
       "    </tr>\n",
       "    <tr>\n",
       "      <th>41</th>\n",
       "      <td>seller</td>\n",
       "      <td>311.0</td>\n",
       "      <td>0.405465</td>\n",
       "      <td>126.099649</td>\n",
       "    </tr>\n",
       "    <tr>\n",
       "      <th>4415</th>\n",
       "      <td>20181231</td>\n",
       "      <td>113.0</td>\n",
       "      <td>1.098612</td>\n",
       "      <td>124.143189</td>\n",
       "    </tr>\n",
       "    <tr>\n",
       "      <th>195</th>\n",
       "      <td>shipping</td>\n",
       "      <td>132.0</td>\n",
       "      <td>0.916291</td>\n",
       "      <td>120.950377</td>\n",
       "    </tr>\n",
       "    <tr>\n",
       "      <th>875</th>\n",
       "      <td>food</td>\n",
       "      <td>77.0</td>\n",
       "      <td>1.321756</td>\n",
       "      <td>101.775200</td>\n",
       "    </tr>\n",
       "    <tr>\n",
       "      <th>4419</th>\n",
       "      <td>20170101</td>\n",
       "      <td>47.0</td>\n",
       "      <td>2.014903</td>\n",
       "      <td>94.700442</td>\n",
       "    </tr>\n",
       "    <tr>\n",
       "      <th>4416</th>\n",
       "      <td>20171231</td>\n",
       "      <td>69.0</td>\n",
       "      <td>1.098612</td>\n",
       "      <td>75.804248</td>\n",
       "    </tr>\n",
       "    <tr>\n",
       "      <th>512</th>\n",
       "      <td>prime</td>\n",
       "      <td>64.0</td>\n",
       "      <td>1.098612</td>\n",
       "      <td>70.311186</td>\n",
       "    </tr>\n",
       "  </tbody>\n",
       "</table>\n",
       "</div>"
      ],
      "text/plain": [
       "           words     tf       idf       tfidf\n",
       "4413  0001018724  348.0  2.014903  701.186251\n",
       "153    amazoncom  202.0  1.098612  221.919682\n",
       "4414    20191231  128.0  1.098612  140.622373\n",
       "41        seller  311.0  0.405465  126.099649\n",
       "4415    20181231  113.0  1.098612  124.143189\n",
       "195     shipping  132.0  0.916291  120.950377\n",
       "875         food   77.0  1.321756  101.775200\n",
       "4419    20170101   47.0  2.014903   94.700442\n",
       "4416    20171231   69.0  1.098612   75.804248\n",
       "512        prime   64.0  1.098612   70.311186"
      ]
     },
     "execution_count": 60,
     "metadata": {},
     "output_type": "execute_result"
    }
   ],
   "source": [
    "tf1['tfidf'] = tf1['tf'] * tf1['idf']\n",
    "tf1.sort_values(by='tfidf', ascending=False)[:10]"
   ]
  },
  {
   "cell_type": "markdown",
   "metadata": {},
   "source": [
    "It is worth noting that the *sklearn* library has the ability to directly calculate a TD-IDF matrix."
   ]
  },
  {
   "cell_type": "code",
   "execution_count": 61,
   "metadata": {},
   "outputs": [
    {
     "data": {
      "text/plain": [
       "<15x1000 sparse matrix of type '<class 'numpy.float64'>'\n",
       "\twith 13391 stored elements in Compressed Sparse Row format>"
      ]
     },
     "execution_count": 61,
     "metadata": {},
     "output_type": "execute_result"
    }
   ],
   "source": [
    "from sklearn.feature_extraction.text import TfidfVectorizer\n",
    "tfidf = TfidfVectorizer(max_features=1000, lowercase=True, analyzer='word',\n",
    " stop_words= 'english',ngram_range=(1,1))\n",
    "data_vect = tfidf.fit_transform(data['Story'])\n",
    "\n",
    "data_vect"
   ]
  },
  {
   "cell_type": "markdown",
   "metadata": {},
   "source": [
    "## Similarity"
   ]
  },
  {
   "cell_type": "code",
   "execution_count": 62,
   "metadata": {},
   "outputs": [],
   "source": [
    "from collections import Counter\n",
    "from sklearn.feature_extraction.text import CountVectorizer\n",
    "from sklearn.metrics.pairwise import cosine_similarity\n",
    "import warnings\n",
    "warnings.filterwarnings(\"ignore\", category=FutureWarning) # This suppresses a warning from scikit learn that they are going to update their code"
   ]
  },
  {
   "cell_type": "markdown",
   "metadata": {},
   "source": [
    "One thing we can look at is how similar two texts are. This has a practical use when looking for plagiarism, but can also be used to compare author's styles. To do this there are a few ways we can measure similarity."
   ]
  },
  {
   "cell_type": "markdown",
   "metadata": {},
   "source": [
    "First we need to set up our two sets of texts. Here we have the ability to choose the size of our sets and whether we want the first n texts from our full data set or just a random sample. Keep in mind that if you want to use two dissimilar sets, you won't have a control value (something x itself)."
   ]
  },
  {
   "cell_type": "code",
   "execution_count": 63,
   "metadata": {},
   "outputs": [],
   "source": [
    "size=10"
   ]
  },
  {
   "cell_type": "code",
   "execution_count": 88,
   "metadata": {},
   "outputs": [],
   "source": [
    "## First n by First n\n",
    "set1 = data[[\"Index\",'Story','Title']][:size]\n",
    "set2 = data[[\"Index\",'Story','Title']][:size]\n",
    "\n",
    "## Random X Itself\n",
    "#set1 = data[[\"Index\",'Story','Title']].sample(size)\n",
    "#set2 = set1\n",
    "\n",
    "## First n by Random\n",
    "#set1 = data[[\"Index\",'Story','Title']][:size]\n",
    "#set2 = data[[\"Index\",'Story','Title']].sample(size)\n",
    "\n",
    "## Random X Random\n",
    "#set1 = data[[\"Index\",'Story','Title']].sample(size)\n",
    "#set2 = data[[\"Index\",'Story','Title']].sample(size)"
   ]
  },
  {
   "cell_type": "code",
   "execution_count": 89,
   "metadata": {},
   "outputs": [],
   "source": [
    "#To let us do a \"cross join\": Every row in one gets matched to all rows in the other\n",
    "set1['key']=1 \n",
    "set2['key']=1\n",
    "\n",
    "similarity = pd.merge(set1, set2, on ='key', suffixes=('_1', '_2')).drop(\"key\", 1)"
   ]
  },
  {
   "cell_type": "markdown",
   "metadata": {},
   "source": [
    "### Jaccard Similarity"
   ]
  },
  {
   "cell_type": "markdown",
   "metadata": {},
   "source": [
    "The first is using a metric called the [Jaccard Index](https://en.wikipedia.org/wiki/Jaccard_index). This is just taking the intersection of two sets of things (in our case, words or n-grams) and dividing it by the union of those sets. This gives us a metric for understanding how the word usage compares but doesn't account for repeated words since the union and intersections just take unique words. One advantage though is that we can easily extend the single word similarity to compare bi-grams and other n-grams if we want to examine phrase usage.\n",
    "\n",
    "$$S_{J}(A,B)=\\frac{A \\cap B}{A \\cup B}$$\n"
   ]
  },
  {
   "cell_type": "code",
   "execution_count": 90,
   "metadata": {},
   "outputs": [],
   "source": [
    "def jaccard(row, n=1):\n",
    "    \n",
    "    old=row['Story_1']\n",
    "    new=row['Story_2']\n",
    "    \n",
    "    old_n_grams = [tuple(el) for el in TextBlob(old).ngrams(n)]\n",
    "    new_n_grams = [tuple(el) for el in TextBlob(new).ngrams(n)]\n",
    "        \n",
    "    union = list(set(old_n_grams) | set(new_n_grams))\n",
    "    intersection = list(set(old_n_grams) & set(new_n_grams))\n",
    "    \n",
    "    lu = len(union)\n",
    "    li = len(intersection)\n",
    "    \n",
    "    return (li/lu,li,lu)"
   ]
  },
  {
   "cell_type": "code",
   "execution_count": 91,
   "metadata": {},
   "outputs": [],
   "source": [
    "for i in [1,2]: # Add values to the list for the n-gram you're interested in\n",
    "    similarity['Jaccard_Index_for_{}_grams'.format(i)]=similarity.apply(lambda x: jaccard(x,i)[0],axis=1)"
   ]
  },
  {
   "cell_type": "code",
   "execution_count": 92,
   "metadata": {},
   "outputs": [],
   "source": [
    "similarity['Intersection']=similarity.apply(lambda x: jaccard(x)[1],axis=1)"
   ]
  },
  {
   "cell_type": "code",
   "execution_count": 93,
   "metadata": {},
   "outputs": [],
   "source": [
    "similarity['Union']=similarity.apply(lambda x: jaccard(x)[2],axis=1)"
   ]
  },
  {
   "cell_type": "code",
   "execution_count": 94,
   "metadata": {},
   "outputs": [
    {
     "data": {
      "text/html": [
       "<div>\n",
       "<style scoped>\n",
       "    .dataframe tbody tr th:only-of-type {\n",
       "        vertical-align: middle;\n",
       "    }\n",
       "\n",
       "    .dataframe tbody tr th {\n",
       "        vertical-align: top;\n",
       "    }\n",
       "\n",
       "    .dataframe thead th {\n",
       "        text-align: right;\n",
       "    }\n",
       "</style>\n",
       "<table border=\"1\" class=\"dataframe\">\n",
       "  <thead>\n",
       "    <tr style=\"text-align: right;\">\n",
       "      <th></th>\n",
       "      <th>Index_1</th>\n",
       "      <th>Story_1</th>\n",
       "      <th>Title_1</th>\n",
       "      <th>Index_2</th>\n",
       "      <th>Story_2</th>\n",
       "      <th>Title_2</th>\n",
       "      <th>Jaccard_Index_for_1_grams</th>\n",
       "      <th>Jaccard_Index_for_2_grams</th>\n",
       "      <th>Intersection</th>\n",
       "      <th>Union</th>\n",
       "    </tr>\n",
       "  </thead>\n",
       "  <tbody>\n",
       "    <tr>\n",
       "      <th>0</th>\n",
       "      <td>0</td>\n",
       "      <td>\\n\\n\\n\\n\\namzn-20201231false2020FY0001018724P3...</td>\n",
       "      <td>AMAZON COM INC</td>\n",
       "      <td>0</td>\n",
       "      <td>\\n\\n\\n\\n\\namzn-20201231false2020FY0001018724P3...</td>\n",
       "      <td>AMAZON COM INC</td>\n",
       "      <td>1.000000</td>\n",
       "      <td>1.000000</td>\n",
       "      <td>5660</td>\n",
       "      <td>5660</td>\n",
       "    </tr>\n",
       "    <tr>\n",
       "      <th>1</th>\n",
       "      <td>0</td>\n",
       "      <td>\\n\\n\\n\\n\\namzn-20201231false2020FY0001018724P3...</td>\n",
       "      <td>AMAZON COM INC</td>\n",
       "      <td>1</td>\n",
       "      <td>\\n\\n\\n\\n\\n\\n\\n\\n\\t\\n\\t\\t\\n\\t\\tDocument\\n\\t\\n\\t...</td>\n",
       "      <td>AMAZON COM INC</td>\n",
       "      <td>0.563524</td>\n",
       "      <td>0.617675</td>\n",
       "      <td>4094</td>\n",
       "      <td>7265</td>\n",
       "    </tr>\n",
       "    <tr>\n",
       "      <th>2</th>\n",
       "      <td>0</td>\n",
       "      <td>\\n\\n\\n\\n\\namzn-20201231false2020FY0001018724P3...</td>\n",
       "      <td>AMAZON COM INC</td>\n",
       "      <td>2</td>\n",
       "      <td>\\n\\n\\n\\t\\n\\t\\t\\n\\t\\t\\n\\t\\tDocument\\n\\t\\n\\t\\nTa...</td>\n",
       "      <td>AMAZON COM INC</td>\n",
       "      <td>0.499061</td>\n",
       "      <td>0.521214</td>\n",
       "      <td>3719</td>\n",
       "      <td>7452</td>\n",
       "    </tr>\n",
       "    <tr>\n",
       "      <th>3</th>\n",
       "      <td>0</td>\n",
       "      <td>\\n\\n\\n\\n\\namzn-20201231false2020FY0001018724P3...</td>\n",
       "      <td>AMAZON COM INC</td>\n",
       "      <td>3</td>\n",
       "      <td>\\n\\n\\n\\t\\n\\t\\t\\n\\t\\t\\n\\t\\tDocument\\n\\t\\n\\t\\n U...</td>\n",
       "      <td>AMAZON COM INC</td>\n",
       "      <td>0.466623</td>\n",
       "      <td>0.453437</td>\n",
       "      <td>3572</td>\n",
       "      <td>7655</td>\n",
       "    </tr>\n",
       "    <tr>\n",
       "      <th>4</th>\n",
       "      <td>0</td>\n",
       "      <td>\\n\\n\\n\\n\\namzn-20201231false2020FY0001018724P3...</td>\n",
       "      <td>AMAZON COM INC</td>\n",
       "      <td>4</td>\n",
       "      <td>\\n\\n\\n\\t\\n\\t\\t\\n\\t\\t\\n\\t\\tDocument\\n\\t\\n\\t\\n U...</td>\n",
       "      <td>AMAZON COM INC</td>\n",
       "      <td>0.445435</td>\n",
       "      <td>0.425136</td>\n",
       "      <td>3449</td>\n",
       "      <td>7743</td>\n",
       "    </tr>\n",
       "  </tbody>\n",
       "</table>\n",
       "</div>"
      ],
      "text/plain": [
       "   Index_1                                            Story_1         Title_1  \\\n",
       "0        0  \\n\\n\\n\\n\\namzn-20201231false2020FY0001018724P3...  AMAZON COM INC   \n",
       "1        0  \\n\\n\\n\\n\\namzn-20201231false2020FY0001018724P3...  AMAZON COM INC   \n",
       "2        0  \\n\\n\\n\\n\\namzn-20201231false2020FY0001018724P3...  AMAZON COM INC   \n",
       "3        0  \\n\\n\\n\\n\\namzn-20201231false2020FY0001018724P3...  AMAZON COM INC   \n",
       "4        0  \\n\\n\\n\\n\\namzn-20201231false2020FY0001018724P3...  AMAZON COM INC   \n",
       "\n",
       "   Index_2                                            Story_2         Title_2  \\\n",
       "0        0  \\n\\n\\n\\n\\namzn-20201231false2020FY0001018724P3...  AMAZON COM INC   \n",
       "1        1  \\n\\n\\n\\n\\n\\n\\n\\n\\t\\n\\t\\t\\n\\t\\tDocument\\n\\t\\n\\t...  AMAZON COM INC   \n",
       "2        2  \\n\\n\\n\\t\\n\\t\\t\\n\\t\\t\\n\\t\\tDocument\\n\\t\\n\\t\\nTa...  AMAZON COM INC   \n",
       "3        3  \\n\\n\\n\\t\\n\\t\\t\\n\\t\\t\\n\\t\\tDocument\\n\\t\\n\\t\\n U...  AMAZON COM INC   \n",
       "4        4  \\n\\n\\n\\t\\n\\t\\t\\n\\t\\t\\n\\t\\tDocument\\n\\t\\n\\t\\n U...  AMAZON COM INC   \n",
       "\n",
       "   Jaccard_Index_for_1_grams  Jaccard_Index_for_2_grams  Intersection  Union  \n",
       "0                   1.000000                   1.000000          5660   5660  \n",
       "1                   0.563524                   0.617675          4094   7265  \n",
       "2                   0.499061                   0.521214          3719   7452  \n",
       "3                   0.466623                   0.453437          3572   7655  \n",
       "4                   0.445435                   0.425136          3449   7743  "
      ]
     },
     "execution_count": 94,
     "metadata": {},
     "output_type": "execute_result"
    }
   ],
   "source": [
    "similarity.head()"
   ]
  },
  {
   "cell_type": "markdown",
   "metadata": {},
   "source": [
    "### Cosine Similarity"
   ]
  },
  {
   "cell_type": "markdown",
   "metadata": {},
   "source": [
    "The second metric we can use is [Cosine Similarity](https://en.wikipedia.org/wiki/Cosine_similarity), however there is a catch here. Cosine similarity requires a vector for each word so we make a choice here to use term frequency. You could choose something else, inverse document frequency or tf-idf would both be good choices. Cosine similarity with a term frequency vector gives us something very similar to the Jaccard Index but accounts for word repetition. This makes it better for tracking word importance between two texts.\n",
    "\n",
    "$$S_{C}(v_1,v_2)=cos(\\theta)=\\frac{v_1\\cdot v_2}{||v_1||\\times||v_2||}$$"
   ]
  },
  {
   "cell_type": "code",
   "execution_count": 95,
   "metadata": {},
   "outputs": [],
   "source": [
    "def get_cosine_sim(str1,str2): \n",
    "    vectors = [t for t in get_vectors([str1,str2])]\n",
    "    return cosine_similarity(vectors)\n",
    "    \n",
    "def get_vectors(slist):\n",
    "    text = [t for t in slist]\n",
    "    vectorizer = CountVectorizer(text)\n",
    "    vectorizer.fit(text)\n",
    "    return vectorizer.transform(text).toarray()\n",
    "\n",
    "def cosine(row):\n",
    "    \n",
    "    old=row['Story_1']\n",
    "    new=row['Story_2']\n",
    "    \n",
    "    return get_cosine_sim(old,new)[0,1]   "
   ]
  },
  {
   "cell_type": "code",
   "execution_count": 96,
   "metadata": {},
   "outputs": [],
   "source": [
    "similarity['Cosine_Similarity']=similarity.apply(lambda x: cosine(x),axis=1)"
   ]
  },
  {
   "cell_type": "code",
   "execution_count": 97,
   "metadata": {},
   "outputs": [
    {
     "data": {
      "text/html": [
       "<div>\n",
       "<style scoped>\n",
       "    .dataframe tbody tr th:only-of-type {\n",
       "        vertical-align: middle;\n",
       "    }\n",
       "\n",
       "    .dataframe tbody tr th {\n",
       "        vertical-align: top;\n",
       "    }\n",
       "\n",
       "    .dataframe thead th {\n",
       "        text-align: right;\n",
       "    }\n",
       "</style>\n",
       "<table border=\"1\" class=\"dataframe\">\n",
       "  <thead>\n",
       "    <tr style=\"text-align: right;\">\n",
       "      <th></th>\n",
       "      <th>Index_1</th>\n",
       "      <th>Story_1</th>\n",
       "      <th>Title_1</th>\n",
       "      <th>Index_2</th>\n",
       "      <th>Story_2</th>\n",
       "      <th>Title_2</th>\n",
       "      <th>Jaccard_Index_for_1_grams</th>\n",
       "      <th>Jaccard_Index_for_2_grams</th>\n",
       "      <th>Intersection</th>\n",
       "      <th>Union</th>\n",
       "      <th>Cosine_Similarity</th>\n",
       "    </tr>\n",
       "  </thead>\n",
       "  <tbody>\n",
       "    <tr>\n",
       "      <th>0</th>\n",
       "      <td>0</td>\n",
       "      <td>\\n\\n\\n\\n\\namzn-20201231false2020FY0001018724P3...</td>\n",
       "      <td>AMAZON COM INC</td>\n",
       "      <td>0</td>\n",
       "      <td>\\n\\n\\n\\n\\namzn-20201231false2020FY0001018724P3...</td>\n",
       "      <td>AMAZON COM INC</td>\n",
       "      <td>1.000000</td>\n",
       "      <td>1.000000</td>\n",
       "      <td>5660</td>\n",
       "      <td>5660</td>\n",
       "      <td>1.000000</td>\n",
       "    </tr>\n",
       "    <tr>\n",
       "      <th>1</th>\n",
       "      <td>0</td>\n",
       "      <td>\\n\\n\\n\\n\\namzn-20201231false2020FY0001018724P3...</td>\n",
       "      <td>AMAZON COM INC</td>\n",
       "      <td>1</td>\n",
       "      <td>\\n\\n\\n\\n\\n\\n\\n\\n\\t\\n\\t\\t\\n\\t\\tDocument\\n\\t\\n\\t...</td>\n",
       "      <td>AMAZON COM INC</td>\n",
       "      <td>0.563524</td>\n",
       "      <td>0.617675</td>\n",
       "      <td>4094</td>\n",
       "      <td>7265</td>\n",
       "      <td>0.972747</td>\n",
       "    </tr>\n",
       "    <tr>\n",
       "      <th>2</th>\n",
       "      <td>0</td>\n",
       "      <td>\\n\\n\\n\\n\\namzn-20201231false2020FY0001018724P3...</td>\n",
       "      <td>AMAZON COM INC</td>\n",
       "      <td>2</td>\n",
       "      <td>\\n\\n\\n\\t\\n\\t\\t\\n\\t\\t\\n\\t\\tDocument\\n\\t\\n\\t\\nTa...</td>\n",
       "      <td>AMAZON COM INC</td>\n",
       "      <td>0.499061</td>\n",
       "      <td>0.521214</td>\n",
       "      <td>3719</td>\n",
       "      <td>7452</td>\n",
       "      <td>0.982105</td>\n",
       "    </tr>\n",
       "    <tr>\n",
       "      <th>3</th>\n",
       "      <td>0</td>\n",
       "      <td>\\n\\n\\n\\n\\namzn-20201231false2020FY0001018724P3...</td>\n",
       "      <td>AMAZON COM INC</td>\n",
       "      <td>3</td>\n",
       "      <td>\\n\\n\\n\\t\\n\\t\\t\\n\\t\\t\\n\\t\\tDocument\\n\\t\\n\\t\\n U...</td>\n",
       "      <td>AMAZON COM INC</td>\n",
       "      <td>0.466623</td>\n",
       "      <td>0.453437</td>\n",
       "      <td>3572</td>\n",
       "      <td>7655</td>\n",
       "      <td>0.977570</td>\n",
       "    </tr>\n",
       "    <tr>\n",
       "      <th>4</th>\n",
       "      <td>0</td>\n",
       "      <td>\\n\\n\\n\\n\\namzn-20201231false2020FY0001018724P3...</td>\n",
       "      <td>AMAZON COM INC</td>\n",
       "      <td>4</td>\n",
       "      <td>\\n\\n\\n\\t\\n\\t\\t\\n\\t\\t\\n\\t\\tDocument\\n\\t\\n\\t\\n U...</td>\n",
       "      <td>AMAZON COM INC</td>\n",
       "      <td>0.445435</td>\n",
       "      <td>0.425136</td>\n",
       "      <td>3449</td>\n",
       "      <td>7743</td>\n",
       "      <td>0.979117</td>\n",
       "    </tr>\n",
       "  </tbody>\n",
       "</table>\n",
       "</div>"
      ],
      "text/plain": [
       "   Index_1                                            Story_1         Title_1  \\\n",
       "0        0  \\n\\n\\n\\n\\namzn-20201231false2020FY0001018724P3...  AMAZON COM INC   \n",
       "1        0  \\n\\n\\n\\n\\namzn-20201231false2020FY0001018724P3...  AMAZON COM INC   \n",
       "2        0  \\n\\n\\n\\n\\namzn-20201231false2020FY0001018724P3...  AMAZON COM INC   \n",
       "3        0  \\n\\n\\n\\n\\namzn-20201231false2020FY0001018724P3...  AMAZON COM INC   \n",
       "4        0  \\n\\n\\n\\n\\namzn-20201231false2020FY0001018724P3...  AMAZON COM INC   \n",
       "\n",
       "   Index_2                                            Story_2         Title_2  \\\n",
       "0        0  \\n\\n\\n\\n\\namzn-20201231false2020FY0001018724P3...  AMAZON COM INC   \n",
       "1        1  \\n\\n\\n\\n\\n\\n\\n\\n\\t\\n\\t\\t\\n\\t\\tDocument\\n\\t\\n\\t...  AMAZON COM INC   \n",
       "2        2  \\n\\n\\n\\t\\n\\t\\t\\n\\t\\t\\n\\t\\tDocument\\n\\t\\n\\t\\nTa...  AMAZON COM INC   \n",
       "3        3  \\n\\n\\n\\t\\n\\t\\t\\n\\t\\t\\n\\t\\tDocument\\n\\t\\n\\t\\n U...  AMAZON COM INC   \n",
       "4        4  \\n\\n\\n\\t\\n\\t\\t\\n\\t\\t\\n\\t\\tDocument\\n\\t\\n\\t\\n U...  AMAZON COM INC   \n",
       "\n",
       "   Jaccard_Index_for_1_grams  Jaccard_Index_for_2_grams  Intersection  Union  \\\n",
       "0                   1.000000                   1.000000          5660   5660   \n",
       "1                   0.563524                   0.617675          4094   7265   \n",
       "2                   0.499061                   0.521214          3719   7452   \n",
       "3                   0.466623                   0.453437          3572   7655   \n",
       "4                   0.445435                   0.425136          3449   7743   \n",
       "\n",
       "   Cosine_Similarity  \n",
       "0           1.000000  \n",
       "1           0.972747  \n",
       "2           0.982105  \n",
       "3           0.977570  \n",
       "4           0.979117  "
      ]
     },
     "execution_count": 97,
     "metadata": {},
     "output_type": "execute_result"
    }
   ],
   "source": [
    "similarity.head()"
   ]
  },
  {
   "cell_type": "markdown",
   "metadata": {},
   "source": [
    "### Visualize Similarity"
   ]
  },
  {
   "cell_type": "code",
   "execution_count": 98,
   "metadata": {},
   "outputs": [],
   "source": [
    "metric = 'Cosine_Similarity'\n",
    "#metric = 'Jaccard_Index_for_1_grams'"
   ]
  },
  {
   "cell_type": "code",
   "execution_count": 99,
   "metadata": {},
   "outputs": [
    {
     "data": {
      "image/png": "[encoded data removed]",
      "text/plain": [
       "<Figure size 432x288 with 1 Axes>"
      ]
     },
     "metadata": {
      "image/png": {
       "height": 248,
       "width": 362
      },
      "needs_background": "light"
     },
     "output_type": "display_data"
    }
   ],
   "source": [
    "import numpy as np \n",
    "import matplotlib.pyplot as plt\n",
    "\n",
    "index = list(similarity['Index_1'].unique())\n",
    "columns = list(similarity['Index_2'].unique())\n",
    "df = pd.DataFrame(0, index=index, columns=columns)\n",
    "\n",
    "for i in df.index:\n",
    "    sub = similarity[(similarity['Index_1']==i)]\n",
    "    for col in df.columns:\n",
    "        df.loc[i,col]=sub[sub['Index_2']==col][metric].iloc[0]\n",
    "        \n",
    "plt.pcolor(df)\n",
    "plt.yticks(np.arange(0.5, len(df.index), 1), df.index)\n",
    "plt.xticks(np.arange(0.5, len(df.columns), 1), df.columns)\n",
    "plt.show()"
   ]
  },
  {
   "cell_type": "code",
   "execution_count": 100,
   "metadata": {},
   "outputs": [
    {
     "data": {
      "text/html": [
       "<div>\n",
       "<style scoped>\n",
       "    .dataframe tbody tr th:only-of-type {\n",
       "        vertical-align: middle;\n",
       "    }\n",
       "\n",
       "    .dataframe tbody tr th {\n",
       "        vertical-align: top;\n",
       "    }\n",
       "\n",
       "    .dataframe thead th {\n",
       "        text-align: right;\n",
       "    }\n",
       "</style>\n",
       "<table border=\"1\" class=\"dataframe\">\n",
       "  <thead>\n",
       "    <tr style=\"text-align: right;\">\n",
       "      <th></th>\n",
       "      <th>Title_1</th>\n",
       "      <th>Index_1</th>\n",
       "      <th>Title_2</th>\n",
       "      <th>Index_2</th>\n",
       "      <th>Cosine_Similarity</th>\n",
       "    </tr>\n",
       "  </thead>\n",
       "  <tbody>\n",
       "    <tr>\n",
       "      <th>99</th>\n",
       "      <td>Alphabet Inc.</td>\n",
       "      <td>9</td>\n",
       "      <td>Alphabet Inc.</td>\n",
       "      <td>9</td>\n",
       "      <td>1.000000</td>\n",
       "    </tr>\n",
       "    <tr>\n",
       "      <th>11</th>\n",
       "      <td>AMAZON COM INC</td>\n",
       "      <td>1</td>\n",
       "      <td>AMAZON COM INC</td>\n",
       "      <td>1</td>\n",
       "      <td>1.000000</td>\n",
       "    </tr>\n",
       "    <tr>\n",
       "      <th>44</th>\n",
       "      <td>AMAZON COM INC</td>\n",
       "      <td>4</td>\n",
       "      <td>AMAZON COM INC</td>\n",
       "      <td>4</td>\n",
       "      <td>1.000000</td>\n",
       "    </tr>\n",
       "    <tr>\n",
       "      <th>33</th>\n",
       "      <td>AMAZON COM INC</td>\n",
       "      <td>3</td>\n",
       "      <td>AMAZON COM INC</td>\n",
       "      <td>3</td>\n",
       "      <td>1.000000</td>\n",
       "    </tr>\n",
       "    <tr>\n",
       "      <th>77</th>\n",
       "      <td>Alphabet Inc.</td>\n",
       "      <td>7</td>\n",
       "      <td>Alphabet Inc.</td>\n",
       "      <td>7</td>\n",
       "      <td>1.000000</td>\n",
       "    </tr>\n",
       "    <tr>\n",
       "      <th>...</th>\n",
       "      <td>...</td>\n",
       "      <td>...</td>\n",
       "      <td>...</td>\n",
       "      <td>...</td>\n",
       "      <td>...</td>\n",
       "    </tr>\n",
       "    <tr>\n",
       "      <th>71</th>\n",
       "      <td>Alphabet Inc.</td>\n",
       "      <td>7</td>\n",
       "      <td>AMAZON COM INC</td>\n",
       "      <td>1</td>\n",
       "      <td>0.602349</td>\n",
       "    </tr>\n",
       "    <tr>\n",
       "      <th>74</th>\n",
       "      <td>Alphabet Inc.</td>\n",
       "      <td>7</td>\n",
       "      <td>AMAZON COM INC</td>\n",
       "      <td>4</td>\n",
       "      <td>0.599703</td>\n",
       "    </tr>\n",
       "    <tr>\n",
       "      <th>47</th>\n",
       "      <td>AMAZON COM INC</td>\n",
       "      <td>4</td>\n",
       "      <td>Alphabet Inc.</td>\n",
       "      <td>7</td>\n",
       "      <td>0.599703</td>\n",
       "    </tr>\n",
       "    <tr>\n",
       "      <th>70</th>\n",
       "      <td>Alphabet Inc.</td>\n",
       "      <td>7</td>\n",
       "      <td>AMAZON COM INC</td>\n",
       "      <td>0</td>\n",
       "      <td>0.597492</td>\n",
       "    </tr>\n",
       "    <tr>\n",
       "      <th>7</th>\n",
       "      <td>AMAZON COM INC</td>\n",
       "      <td>0</td>\n",
       "      <td>Alphabet Inc.</td>\n",
       "      <td>7</td>\n",
       "      <td>0.597492</td>\n",
       "    </tr>\n",
       "  </tbody>\n",
       "</table>\n",
       "<p>100 rows × 5 columns</p>\n",
       "</div>"
      ],
      "text/plain": [
       "           Title_1  Index_1         Title_2  Index_2  Cosine_Similarity\n",
       "99   Alphabet Inc.        9   Alphabet Inc.        9           1.000000\n",
       "11  AMAZON COM INC        1  AMAZON COM INC        1           1.000000\n",
       "44  AMAZON COM INC        4  AMAZON COM INC        4           1.000000\n",
       "33  AMAZON COM INC        3  AMAZON COM INC        3           1.000000\n",
       "77   Alphabet Inc.        7   Alphabet Inc.        7           1.000000\n",
       "..             ...      ...             ...      ...                ...\n",
       "71   Alphabet Inc.        7  AMAZON COM INC        1           0.602349\n",
       "74   Alphabet Inc.        7  AMAZON COM INC        4           0.599703\n",
       "47  AMAZON COM INC        4   Alphabet Inc.        7           0.599703\n",
       "70   Alphabet Inc.        7  AMAZON COM INC        0           0.597492\n",
       "7   AMAZON COM INC        0   Alphabet Inc.        7           0.597492\n",
       "\n",
       "[100 rows x 5 columns]"
      ]
     },
     "execution_count": 100,
     "metadata": {},
     "output_type": "execute_result"
    }
   ],
   "source": [
    "similarity[['Title_1','Index_1','Title_2','Index_2',metric]].sort_values(by=metric,ascending=False)"
   ]
  },
  {
   "cell_type": "markdown",
   "metadata": {},
   "source": [
    "## [Bag of Words](https://en.wikipedia.org/wiki/Bag-of-words_model)"
   ]
  },
  {
   "cell_type": "markdown",
   "metadata": {},
   "source": [
    "[Bag of Words](https://en.wikipedia.org/wiki/Bag-of-words_model) a way to represent text based on the idea that similar texts will contain similar vocabulary. There is a lot to this model and we provide merely a simple implementation of it here."
   ]
  },
  {
   "cell_type": "code",
   "execution_count": 101,
   "metadata": {
    "scrolled": true
   },
   "outputs": [
    {
     "data": {
      "text/plain": [
       "<15x1000 sparse matrix of type '<class 'numpy.int64'>'\n",
       "\twith 13623 stored elements in Compressed Sparse Row format>"
      ]
     },
     "execution_count": 101,
     "metadata": {},
     "output_type": "execute_result"
    }
   ],
   "source": [
    "from sklearn.feature_extraction.text import CountVectorizer\n",
    "bow = CountVectorizer(max_features=1000, lowercase=True, ngram_range=(1,1),analyzer = \"word\")\n",
    "data_bow = bow.fit_transform(data['Story'])\n",
    "data_bow"
   ]
  },
  {
   "cell_type": "markdown",
   "metadata": {},
   "source": [
    "## Sentiment Analysis"
   ]
  },
  {
   "cell_type": "markdown",
   "metadata": {},
   "source": [
    "Sentiment is a way of measuring the overall positivity or negativity in a given text.\n",
    "\n",
    "To do this we will use the built in sentiment function in the *TextBlob* package. This function will return the polarity and subjectivity scores for each data chunk."
   ]
  },
  {
   "cell_type": "code",
   "execution_count": 102,
   "metadata": {},
   "outputs": [
    {
     "data": {
      "text/plain": [
       "0     (0.05206328652547576, 0.36030373468995647)\n",
       "1      (0.04777951754929917, 0.3545975179322718)\n",
       "2      (0.04672057393604929, 0.3477917102752281)\n",
       "3     (0.04960527516001604, 0.34639215360867287)\n",
       "4    (0.048289163785265696, 0.34750143824204693)\n",
       "Name: Story, dtype: object"
      ]
     },
     "execution_count": 102,
     "metadata": {},
     "output_type": "execute_result"
    }
   ],
   "source": [
    "data['Story'][:5].apply(lambda x: TextBlob(x).sentiment)"
   ]
  },
  {
   "cell_type": "markdown",
   "metadata": {},
   "source": [
    "Focusing on the polarity score, we are able to see the overall sentiment of each data chunk. The closer to 1 the more positive and the closer to -1 the more negative."
   ]
  },
  {
   "cell_type": "code",
   "execution_count": 103,
   "metadata": {
    "scrolled": true
   },
   "outputs": [
    {
     "data": {
      "text/html": [
       "<div>\n",
       "<style scoped>\n",
       "    .dataframe tbody tr th:only-of-type {\n",
       "        vertical-align: middle;\n",
       "    }\n",
       "\n",
       "    .dataframe tbody tr th {\n",
       "        vertical-align: top;\n",
       "    }\n",
       "\n",
       "    .dataframe thead th {\n",
       "        text-align: right;\n",
       "    }\n",
       "</style>\n",
       "<table border=\"1\" class=\"dataframe\">\n",
       "  <thead>\n",
       "    <tr style=\"text-align: right;\">\n",
       "      <th></th>\n",
       "      <th>Story</th>\n",
       "      <th>sentiment</th>\n",
       "    </tr>\n",
       "  </thead>\n",
       "  <tbody>\n",
       "    <tr>\n",
       "      <th>0</th>\n",
       "      <td>\\n\\n\\n\\n\\namzn-20201231false2020FY0001018724P3...</td>\n",
       "      <td>0.052063</td>\n",
       "    </tr>\n",
       "    <tr>\n",
       "      <th>1</th>\n",
       "      <td>\\n\\n\\n\\n\\n\\n\\n\\n\\t\\n\\t\\t\\n\\t\\tDocument\\n\\t\\n\\t...</td>\n",
       "      <td>0.047780</td>\n",
       "    </tr>\n",
       "    <tr>\n",
       "      <th>2</th>\n",
       "      <td>\\n\\n\\n\\t\\n\\t\\t\\n\\t\\t\\n\\t\\tDocument\\n\\t\\n\\t\\nTa...</td>\n",
       "      <td>0.046721</td>\n",
       "    </tr>\n",
       "    <tr>\n",
       "      <th>3</th>\n",
       "      <td>\\n\\n\\n\\t\\n\\t\\t\\n\\t\\t\\n\\t\\tDocument\\n\\t\\n\\t\\n U...</td>\n",
       "      <td>0.049605</td>\n",
       "    </tr>\n",
       "    <tr>\n",
       "      <th>4</th>\n",
       "      <td>\\n\\n\\n\\t\\n\\t\\t\\n\\t\\t\\n\\t\\tDocument\\n\\t\\n\\t\\n U...</td>\n",
       "      <td>0.048289</td>\n",
       "    </tr>\n",
       "  </tbody>\n",
       "</table>\n",
       "</div>"
      ],
      "text/plain": [
       "                                               Story  sentiment\n",
       "0  \\n\\n\\n\\n\\namzn-20201231false2020FY0001018724P3...   0.052063\n",
       "1  \\n\\n\\n\\n\\n\\n\\n\\n\\t\\n\\t\\t\\n\\t\\tDocument\\n\\t\\n\\t...   0.047780\n",
       "2  \\n\\n\\n\\t\\n\\t\\t\\n\\t\\t\\n\\t\\tDocument\\n\\t\\n\\t\\nTa...   0.046721\n",
       "3  \\n\\n\\n\\t\\n\\t\\t\\n\\t\\t\\n\\t\\tDocument\\n\\t\\n\\t\\n U...   0.049605\n",
       "4  \\n\\n\\n\\t\\n\\t\\t\\n\\t\\t\\n\\t\\tDocument\\n\\t\\n\\t\\n U...   0.048289"
      ]
     },
     "execution_count": 103,
     "metadata": {},
     "output_type": "execute_result"
    }
   ],
   "source": [
    "data['sentiment'] = data['Story'].apply(lambda x: TextBlob(x).sentiment[0] )\n",
    "data[['Story','sentiment']].head()"
   ]
  },
  {
   "cell_type": "markdown",
   "metadata": {},
   "source": [
    "Here we have textted the sentiment scores for the first 10 chunks.\n",
    "\n",
    "Notice they tend to be positive but not exceedingly so."
   ]
  },
  {
   "cell_type": "code",
   "execution_count": 104,
   "metadata": {
    "scrolled": true
   },
   "outputs": [
    {
     "data": {
      "image/png": "[encoded data removed]",
      "text/plain": [
       "<Figure size 432x288 with 1 Axes>"
      ]
     },
     "metadata": {
      "image/png": {
       "height": 245,
       "width": 378
      },
      "needs_background": "light"
     },
     "output_type": "display_data"
    }
   ],
   "source": [
    "plot_1 = data[['sentiment']][:10].plot(kind='bar')"
   ]
  },
  {
   "cell_type": "markdown",
   "metadata": {},
   "source": [
    "Now we have sorted and textted all of the sentiment scores for the chunks in our database.\n",
    "\n",
    "We can clearly see that most of the text data is positive but not overwhelmingly so (as seen by the long tail of the distribution). However, the parts that are negative tend to be more polarized than the positive ones (a shorter tail and sharper peak)."
   ]
  },
  {
   "cell_type": "code",
   "execution_count": 105,
   "metadata": {},
   "outputs": [
    {
     "data": {
      "image/png": "[encoded data removed]",
      "text/plain": [
       "<Figure size 432x288 with 1 Axes>"
      ]
     },
     "metadata": {
      "image/png": {
       "height": 251,
       "width": 378
      },
      "needs_background": "light"
     },
     "output_type": "display_data"
    }
   ],
   "source": [
    "plot_2 = data[['sentiment']].sort_values(by='sentiment', ascending=False).plot(kind='bar')"
   ]
  },
  {
   "cell_type": "markdown",
   "metadata": {},
   "source": [
    "## Using TF-IDF and Machine Learning"
   ]
  },
  {
   "cell_type": "markdown",
   "metadata": {},
   "source": [
    "This is significantly more advanced than the rest of the tutorial. This takes the TF-IDF matrix and applies a [k-means clustering algorithm](https://en.wikipedia.org/wiki/K-means_clustering). This groups the texts into clusters of similar terms from the TF-IDF matrix. This algorithm randomly seeds X \"means\", the values are then clustered into the nearest mean. The centroid of the values in each cluster then becomes the new mean and the process repeats until a convergence is reached."
   ]
  },
  {
   "cell_type": "code",
   "execution_count": 127,
   "metadata": {},
   "outputs": [
    {
     "data": {
      "image/png": "[encoded data removed]",
      "text/plain": [
       "<Figure size 432x288 with 1 Axes>"
      ]
     },
     "metadata": {
      "image/png": {
       "height": 248,
       "width": 386
      },
      "needs_background": "light"
     },
     "output_type": "display_data"
    }
   ],
   "source": [
    "import matplotlib.pyplot as plt\n",
    "from sklearn.feature_extraction.text import TfidfVectorizer\n",
    "from sklearn.cluster import KMeans\n",
    "from sklearn.decomposition import PCA\n",
    "from sklearn.manifold import TSNE\n",
    "\n",
    "groups = 4\n",
    "\n",
    "num_clusters = groups\n",
    "num_seeds = groups\n",
    "max_iterations = 300\n",
    "labels_color_map = {\n",
    "    0: '#20b2aa', 1: '#ff7373', 2: '#ffe4e1', 3: '#005073', 4: '#4d0404',\n",
    "    5: '#ccc0ba', 6: '#4700f9', 7: '#f6f900', 8: '#00f91d', 9: '#da8c49'\n",
    "}\n",
    "pca_num_components = 2\n",
    "tsne_num_components = 2\n",
    "\n",
    "# calculate tf-idf of texts\n",
    "tfidf = TfidfVectorizer(max_features=1000, lowercase=True, analyzer='word',stop_words= 'english',ngram_range=(1,1))\n",
    "tf_idf_matrix = tfidf.fit_transform(data['Story'])\n",
    "\n",
    "# create k-means model with custom config\n",
    "clustering_model = KMeans(\n",
    "    n_clusters=num_clusters,\n",
    "    max_iter=max_iterations,\n",
    "    precompute_distances=\"auto\",\n",
    "    n_jobs=-1\n",
    ")\n",
    "\n",
    "labels = clustering_model.fit_predict(tf_idf_matrix)\n",
    "#print(labels)\n",
    "\n",
    "X = tf_idf_matrix.todense()\n",
    "\n",
    "# ----------------------------------------------------------------------------------------------------------------------\n",
    "\n",
    "reduced_data = PCA(n_components=pca_num_components).fit_transform(X)\n",
    "# print(reduced_data)\n",
    "\n",
    "import matplotlib.patches as mpatches\n",
    "legendlist=[mpatches.Patch(color=labels_color_map[key],label=str(key))for key in labels_color_map.keys()]\n",
    "\n",
    "fig, ax = plt.subplots()\n",
    "for index, instance in enumerate(reduced_data):\n",
    "    #print(instance, index, labels[index])\n",
    "    pca_comp_1, pca_comp_2 = reduced_data[index]\n",
    "    color = labels_color_map[labels[index]]\n",
    "    ax.scatter(pca_comp_1, pca_comp_2, c=color)\n",
    "plt.legend(handles=legendlist)\n",
    "plt.show()\n",
    "\n",
    "\n",
    "\n",
    "# t-SNE plot\n",
    "#embeddings = TSNE(n_components=tsne_num_components)\n",
    "#Y = embeddings.fit_transform(X)\n",
    "#plt.scatter(Y[:, 0], Y[:, 1], cmap=plt.cm.Spectral)\n",
    "#plt.show()\n"
   ]
  },
  {
   "cell_type": "code",
   "execution_count": 128,
   "metadata": {},
   "outputs": [],
   "source": [
    "tfidf_test = tf1.sort_values(by='tfidf', ascending=False)[:1000]"
   ]
  },
  {
   "cell_type": "code",
   "execution_count": 129,
   "metadata": {},
   "outputs": [],
   "source": [
    "title_groups = np.transpose([labels,data['Title'],data['10K_Filing']])"
   ]
  },
  {
   "cell_type": "markdown",
   "metadata": {},
   "source": [
    "These are the titles of the texts in each cluster. Keep in mind that each time you run the algorithm, the randomness in generating the initial means will result in different clusters."
   ]
  },
  {
   "cell_type": "code",
   "execution_count": 130,
   "metadata": {},
   "outputs": [],
   "source": [
    "for i in range(len(title_groups)):\n",
    "    data.loc[i,'Group'] = title_groups[i][0]"
   ]
  },
  {
   "cell_type": "code",
   "execution_count": 131,
   "metadata": {},
   "outputs": [
    {
     "data": {
      "text/plain": [
       "10    MICROSOFT CORP\n",
       "11    MICROSOFT CORP\n",
       "12    MICROSOFT CORP\n",
       "13    MICROSOFT CORP\n",
       "14    MICROSOFT CORP\n",
       "Name: Title, dtype: object"
      ]
     },
     "execution_count": 131,
     "metadata": {},
     "output_type": "execute_result"
    }
   ],
   "source": [
    "grp=1\n",
    "data[data['Group']==grp]['Title']#.sample(15)"
   ]
  },
  {
   "cell_type": "code",
   "execution_count": 132,
   "metadata": {},
   "outputs": [
    {
     "name": "stdout",
     "output_type": "stream",
     "text": [
      "\n",
      "#### 0 ###\n",
      "\n",
      "Alphabet Inc.\n",
      "\n",
      "#### 1 ###\n",
      "\n",
      "MICROSOFT CORP\n",
      "MICROSOFT CORP\n",
      "MICROSOFT CORP\n",
      "MICROSOFT CORP\n",
      "MICROSOFT CORP\n",
      "\n",
      "#### 2 ###\n",
      "\n",
      "Alphabet Inc.\n",
      "Alphabet Inc.\n",
      "Alphabet Inc.\n",
      "Alphabet Inc.\n",
      "\n",
      "#### 3 ###\n",
      "\n",
      "AMAZON COM INC\n",
      "AMAZON COM INC\n",
      "AMAZON COM INC\n",
      "AMAZON COM INC\n",
      "AMAZON COM INC\n"
     ]
    }
   ],
   "source": [
    "for i in range(groups):\n",
    "    print(\"\")\n",
    "    print(\"#### {} ###\".format(i))\n",
    "    print(\"\")\n",
    "    for el in title_groups:\n",
    "        if el[0]==i:\n",
    "            print(\"{}\".format(el[1]))"
   ]
  },
  {
   "cell_type": "code",
   "execution_count": null,
   "metadata": {},
   "outputs": [],
   "source": []
  },
  {
   "cell_type": "code",
   "execution_count": null,
   "metadata": {},
   "outputs": [],
   "source": []
  },
  {
   "cell_type": "code",
   "execution_count": null,
   "metadata": {},
   "outputs": [],
   "source": []
  }
 ],
 "metadata": {
  "kernelspec": {
   "display_name": "Python 3",
   "language": "python",
   "name": "python3"
  },
  "language_info": {
   "codemirror_mode": {
    "name": "ipython",
    "version": 3
   },
   "file_extension": ".py",
   "mimetype": "text/x-python",
   "name": "python",
   "nbconvert_exporter": "python",
   "pygments_lexer": "ipython3",
   "version": "3.8.6"
  },
  "nav_menu": {},
  "toc": {
   "navigate_menu": true,
   "number_sections": false,
   "sideBar": false,
   "threshold": 6,
   "toc_cell": true,
   "toc_section_display": "block",
   "toc_window_display": false
  },
  "toc-autonumbering": false
 },
 "nbformat": 4,
 "nbformat_minor": 4
}
